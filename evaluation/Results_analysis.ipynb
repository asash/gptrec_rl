{
 "cells": [
  {
   "cell_type": "code",
   "execution_count": 52,
   "metadata": {},
   "outputs": [],
   "source": [
    "%matplotlib inline\n",
    "from matplotlib import pyplot as plt\n",
    "from collections import defaultdict\n",
    "import json\n",
    "import numpy as np\n",
    "import pandas as pd\n",
    "import re"
   ]
  },
  {
   "cell_type": "code",
   "execution_count": 66,
   "metadata": {},
   "outputs": [],
   "source": [
    "def is_experiment_start(line):\n",
    "    return line.startswith('evaluating for')\n",
    "\n",
    "def skip_n_experiments(input_file, experiment_num):\n",
    "    current_experiment = 0\n",
    "    while current_experiment < experiment_num:\n",
    "        line = input_file.readline()\n",
    "        if is_experiment_start(line):\n",
    "            current_experiment += 1\n",
    "            \n",
    "def get_metrics(line):\n",
    "    regexp = re.compile(r'[a-zA-Z0-9_]+\\: [0-9\\.]+')\n",
    "    result = {}\n",
    "    for metric_str in regexp.findall(line):\n",
    "        metric, value = metric_str.split(': ')\n",
    "        result[metric] = float(value)\n",
    "    return result\n",
    "    \n",
    "            \n",
    "def parse_experiment(experiment_log):\n",
    "    current_recommender = None\n",
    "    result = []\n",
    "    cnt =0\n",
    "    metrics = []\n",
    "    for line in experiment_log:\n",
    "            if line.startswith('evaluating '):\n",
    "                current_recommender = line.split(' ')[1]\n",
    "                metrics = []\n",
    "            if 'val_ndcg_at_40' in line:\n",
    "                    metrics.append(get_metrics(line))\n",
    "            try:\n",
    "                experiment_results = json.loads(line)\n",
    "                experiment_results['model_name'] =  current_recommender\n",
    "                experiment_results['metrics_history'] = metrics\n",
    "                result.append(experiment_results)\n",
    "            except:\n",
    "                pass\n",
    "    return result\n",
    "\n",
    "def get_data_from_logs(logfile, experiment_num):\n",
    "    current_experiment = 0\n",
    "    with open(logfile) as input_file:\n",
    "        skip_n_experiments(input_file, experiment_num)\n",
    "        experiment_log = []\n",
    "        for line in input_file:\n",
    "            if is_experiment_start(line):\n",
    "                break\n",
    "            else:\n",
    "                experiment_log.append(line.strip())\n",
    "        return parse_experiment(experiment_log)"
   ]
  },
  {
   "cell_type": "code",
   "execution_count": 67,
   "metadata": {},
   "outputs": [],
   "source": [
    "def moving_average(x, w):\n",
    "    return np.convolve(x, np.ones(w), 'valid') / w"
   ]
  },
  {
   "cell_type": "code",
   "execution_count": 68,
   "metadata": {},
   "outputs": [],
   "source": [
    "experiment_logs = './results/booking_config_2021_01_12T21_05_12/stdout'\n",
    "data = get_data_from_logs(experiment_logs, 0)\n"
   ]
  },
  {
   "cell_type": "code",
   "execution_count": 69,
   "metadata": {},
   "outputs": [
    {
     "data": {
      "text/html": [
       "<div>\n",
       "<style scoped>\n",
       "    .dataframe tbody tr th:only-of-type {\n",
       "        vertical-align: middle;\n",
       "    }\n",
       "\n",
       "    .dataframe tbody tr th {\n",
       "        vertical-align: top;\n",
       "    }\n",
       "\n",
       "    .dataframe thead th {\n",
       "        text-align: right;\n",
       "    }\n",
       "</style>\n",
       "<table border=\"1\" class=\"dataframe\">\n",
       "  <thead>\n",
       "    <tr style=\"text-align: right;\">\n",
       "      <th></th>\n",
       "      <th>precision@4</th>\n",
       "      <th>SPS@4</th>\n",
       "      <th>ndcg@4</th>\n",
       "      <th>ndcg@40</th>\n",
       "      <th>model_build_time</th>\n",
       "      <th>model_inference_time</th>\n",
       "      <th>model_metadata</th>\n",
       "      <th>metrics_history</th>\n",
       "    </tr>\n",
       "    <tr>\n",
       "      <th>model_name</th>\n",
       "      <th></th>\n",
       "      <th></th>\n",
       "      <th></th>\n",
       "      <th></th>\n",
       "      <th></th>\n",
       "      <th></th>\n",
       "      <th></th>\n",
       "      <th></th>\n",
       "    </tr>\n",
       "  </thead>\n",
       "  <tbody>\n",
       "    <tr>\n",
       "      <th>top_recommender</th>\n",
       "      <td>0.015766</td>\n",
       "      <td>0.063063</td>\n",
       "      <td>0.039516</td>\n",
       "      <td>0.085549</td>\n",
       "      <td>0.122494</td>\n",
       "      <td>0.010478</td>\n",
       "      <td>{}</td>\n",
       "      <td>[]</td>\n",
       "    </tr>\n",
       "    <tr>\n",
       "      <th>conditional_top_recommender</th>\n",
       "      <td>0.094094</td>\n",
       "      <td>0.372372</td>\n",
       "      <td>0.289590</td>\n",
       "      <td>0.361719</td>\n",
       "      <td>0.008951</td>\n",
       "      <td>0.017133</td>\n",
       "      <td>{}</td>\n",
       "      <td>[]</td>\n",
       "    </tr>\n",
       "    <tr>\n",
       "      <th>transitions_chain_recommender</th>\n",
       "      <td>0.109860</td>\n",
       "      <td>0.439439</td>\n",
       "      <td>0.343552</td>\n",
       "      <td>0.432880</td>\n",
       "      <td>1.920057</td>\n",
       "      <td>13.885552</td>\n",
       "      <td>{}</td>\n",
       "      <td>[]</td>\n",
       "    </tr>\n",
       "    <tr>\n",
       "      <th>APREC-GMLPHE-Lambdarank-128</th>\n",
       "      <td>0.127127</td>\n",
       "      <td>0.508509</td>\n",
       "      <td>0.411769</td>\n",
       "      <td>0.491176</td>\n",
       "      <td>23902.767191</td>\n",
       "      <td>31.278499</td>\n",
       "      <td>{'epochs_trained': 33, 'best_val_ndcg': 0.4816...</td>\n",
       "      <td>[{'loss': 5.4725, 'ndcg_at_40': 0.1796, 'Succe...</td>\n",
       "    </tr>\n",
       "    <tr>\n",
       "      <th>APREC-GMLPHE-Lambdarank-256</th>\n",
       "      <td>0.127377</td>\n",
       "      <td>0.509510</td>\n",
       "      <td>0.410000</td>\n",
       "      <td>0.493750</td>\n",
       "      <td>32996.519187</td>\n",
       "      <td>31.070139</td>\n",
       "      <td>{'epochs_trained': 55, 'best_val_ndcg': 0.5014...</td>\n",
       "      <td>[{'loss': 5.5887, 'ndcg_at_40': 0.1841, 'Succe...</td>\n",
       "    </tr>\n",
       "  </tbody>\n",
       "</table>\n",
       "</div>"
      ],
      "text/plain": [
       "                               precision@4     SPS@4    ndcg@4   ndcg@40  \\\n",
       "model_name                                                                 \n",
       "top_recommender                   0.015766  0.063063  0.039516  0.085549   \n",
       "conditional_top_recommender       0.094094  0.372372  0.289590  0.361719   \n",
       "transitions_chain_recommender     0.109860  0.439439  0.343552  0.432880   \n",
       "APREC-GMLPHE-Lambdarank-128       0.127127  0.508509  0.411769  0.491176   \n",
       "APREC-GMLPHE-Lambdarank-256       0.127377  0.509510  0.410000  0.493750   \n",
       "\n",
       "                               model_build_time  model_inference_time  \\\n",
       "model_name                                                              \n",
       "top_recommender                        0.122494              0.010478   \n",
       "conditional_top_recommender            0.008951              0.017133   \n",
       "transitions_chain_recommender          1.920057             13.885552   \n",
       "APREC-GMLPHE-Lambdarank-128        23902.767191             31.278499   \n",
       "APREC-GMLPHE-Lambdarank-256        32996.519187             31.070139   \n",
       "\n",
       "                                                                  model_metadata  \\\n",
       "model_name                                                                         \n",
       "top_recommender                                                               {}   \n",
       "conditional_top_recommender                                                   {}   \n",
       "transitions_chain_recommender                                                 {}   \n",
       "APREC-GMLPHE-Lambdarank-128    {'epochs_trained': 33, 'best_val_ndcg': 0.4816...   \n",
       "APREC-GMLPHE-Lambdarank-256    {'epochs_trained': 55, 'best_val_ndcg': 0.5014...   \n",
       "\n",
       "                                                                 metrics_history  \n",
       "model_name                                                                        \n",
       "top_recommender                                                               []  \n",
       "conditional_top_recommender                                                   []  \n",
       "transitions_chain_recommender                                                 []  \n",
       "APREC-GMLPHE-Lambdarank-128    [{'loss': 5.4725, 'ndcg_at_40': 0.1796, 'Succe...  \n",
       "APREC-GMLPHE-Lambdarank-256    [{'loss': 5.5887, 'ndcg_at_40': 0.1841, 'Succe...  "
      ]
     },
     "execution_count": 69,
     "metadata": {},
     "output_type": "execute_result"
    }
   ],
   "source": [
    "df = pd.DataFrame(data).set_index('model_name').sort_values('ndcg@40')\n",
    "df"
   ]
  },
  {
   "cell_type": "code",
   "execution_count": 78,
   "metadata": {
    "scrolled": false
   },
   "outputs": [
    {
     "data": {
      "text/plain": [
       "<matplotlib.legend.Legend at 0x7f2872177eb0>"
      ]
     },
     "execution_count": 78,
     "metadata": {},
     "output_type": "execute_result"
    },
    {
     "data": {
      "image/png": "[encoded data removed]",
      "text/plain": [
       "<Figure size 576x324 with 1 Axes>"
      ]
     },
     "metadata": {
      "needs_background": "light"
     },
     "output_type": "display_data"
    }
   ],
   "source": [
    "def get_metric(metric_history, metric_name):\n",
    "    result = []\n",
    "    for item in metric_history:\n",
    "        try:\n",
    "            result.append(item[metric_name])\n",
    "        except:\n",
    "            print(item)\n",
    "    return result\n",
    "\n",
    "plt.figure(figsize=(8, 4.5))\n",
    "for recommender in data:\n",
    "    if len(recommender['metrics_history']) > 0:\n",
    "        history = recommender['metrics_history']\n",
    "        ndcg = get_metric(history, 'ndcg_at_40')\n",
    "        val_ndcg = get_metric(history, 'val_ndcg_at_40')\n",
    "        \n",
    "        success = get_metric(history, 'Success_at_4')\n",
    "        val_success = get_metric(history, 'val_Success_at_4')\n",
    "        \n",
    "        plt.plot(val_ndcg, label=recommender['model_name'] + \"_ndcg\")\n",
    "        plt.plot(val_success, label=recommender['model_name'] + \"_val_sps\")\n",
    "        break\n",
    "plt.legend()\n"
   ]
  },
  {
   "cell_type": "code",
   "execution_count": 7,
   "metadata": {},
   "outputs": [
    {
     "data": {
      "text/plain": [
       "0.4608449935913086"
      ]
     },
     "execution_count": 7,
     "metadata": {},
     "output_type": "execute_result"
    }
   ],
   "source": [
    "max(recommender['model_metadata']['val_success_history'])"
   ]
  },
  {
   "cell_type": "code",
   "execution_count": 8,
   "metadata": {},
   "outputs": [],
   "source": [
    "arr= recommender['model_metadata']['val_success_history']"
   ]
  },
  {
   "cell_type": "code",
   "execution_count": 10,
   "metadata": {},
   "outputs": [],
   "source": [
    "best = 0\n",
    "time_since_best = []\n",
    "for i in range (1, len(arr)):\n",
    "    if arr[i] > arr[best]:\n",
    "        best = i\n",
    "    time_since_best.append(i - best)"
   ]
  },
  {
   "cell_type": "code",
   "execution_count": 12,
   "metadata": {},
   "outputs": [
    {
     "data": {
      "text/plain": [
       "[<matplotlib.lines.Line2D at 0x7f8421ebc700>]"
      ]
     },
     "execution_count": 12,
     "metadata": {},
     "output_type": "execute_result"
    }
   ],
   "source": [
    "plt.plot(time_since_best)"
   ]
  },
  {
   "cell_type": "code",
   "execution_count": null,
   "metadata": {},
   "outputs": [],
   "source": []
  }
 ],
 "metadata": {
  "kernelspec": {
   "display_name": "Python 3",
   "language": "python",
   "name": "python3"
  },
  "language_info": {
   "codemirror_mode": {
    "name": "ipython",
    "version": 3
   },
   "file_extension": ".py",
   "mimetype": "text/x-python",
   "name": "python",
   "nbconvert_exporter": "python",
   "pygments_lexer": "ipython3",
   "version": "3.8.6"
  }
 },
 "nbformat": 4,
 "nbformat_minor": 4
}
