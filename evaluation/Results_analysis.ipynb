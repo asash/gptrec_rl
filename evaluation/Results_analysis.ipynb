{
 "cells": [
  {
   "cell_type": "code",
   "execution_count": 1,
   "metadata": {},
   "outputs": [],
   "source": [
    "%matplotlib inline\n",
    "from matplotlib import pyplot as plt\n",
    "from collections import defaultdict\n",
    "import json\n",
    "import numpy as np\n",
    "import pandas as pd\n",
    "import re"
   ]
  },
  {
   "cell_type": "code",
   "execution_count": 2,
   "metadata": {},
   "outputs": [],
   "source": [
    "def is_experiment_start(line):\n",
    "    return line.startswith('evaluating for')\n",
    "\n",
    "def skip_n_experiments(input_file, experiment_num):\n",
    "    current_experiment = 0\n",
    "    while current_experiment < experiment_num:\n",
    "        line = input_file.readline()\n",
    "        if is_experiment_start(line):\n",
    "            current_experiment += 1\n",
    "            \n",
    "def get_metrics(line):\n",
    "    regexp = re.compile(r'[a-zA-Z0-9_]+\\: [0-9\\.]+')\n",
    "    result = {}\n",
    "    for metric_str in regexp.findall(line):\n",
    "        metric, value = metric_str.split(': ')\n",
    "        result[metric] = float(value)\n",
    "    return result\n",
    "    \n",
    "            \n",
    "def parse_experiment(experiment_log):\n",
    "    current_recommender = None\n",
    "    result = []\n",
    "    cnt =0\n",
    "    metrics = []\n",
    "    for line in experiment_log:\n",
    "            if line.startswith('evaluating '):\n",
    "                current_recommender = line.split(' ')[1]\n",
    "                metrics = []\n",
    "            if 'val_ndcg_at_40' in line:\n",
    "                    metrics.append(get_metrics(line))\n",
    "            try:\n",
    "                experiment_results = json.loads(line)\n",
    "                experiment_results['model_name'] =  current_recommender\n",
    "                experiment_results['metrics_history'] = metrics\n",
    "                result.append(experiment_results)\n",
    "            except:\n",
    "                pass\n",
    "    return result\n",
    "\n",
    "def get_data_from_logs(logfile, experiment_num):\n",
    "    current_experiment = 0\n",
    "    with open(logfile) as input_file:\n",
    "        skip_n_experiments(input_file, experiment_num)\n",
    "        experiment_log = []\n",
    "        for line in input_file:\n",
    "            if is_experiment_start(line):\n",
    "                break\n",
    "            else:\n",
    "                experiment_log.append(line.strip())\n",
    "        return parse_experiment(experiment_log)"
   ]
  },
  {
   "cell_type": "code",
   "execution_count": 3,
   "metadata": {},
   "outputs": [],
   "source": [
    "def moving_average(x, w):\n",
    "    return np.convolve(x, np.ones(w), 'valid') / w"
   ]
  },
  {
   "cell_type": "code",
   "execution_count": 3,
   "metadata": {},
   "outputs": [],
   "source": [
    "experiment_logs = './results/booking_config_2021_01_16T14_07_20/stdout'\n",
    "data = get_data_from_logs(experiment_logs, 0)\n"
   ]
  },
  {
   "cell_type": "code",
   "execution_count": 4,
   "metadata": {},
   "outputs": [
    {
     "data": {
      "text/html": [
       "<div>\n",
       "<style scoped>\n",
       "    .dataframe tbody tr th:only-of-type {\n",
       "        vertical-align: middle;\n",
       "    }\n",
       "\n",
       "    .dataframe tbody tr th {\n",
       "        vertical-align: top;\n",
       "    }\n",
       "\n",
       "    .dataframe thead th {\n",
       "        text-align: right;\n",
       "    }\n",
       "</style>\n",
       "<table border=\"1\" class=\"dataframe\">\n",
       "  <thead>\n",
       "    <tr style=\"text-align: right;\">\n",
       "      <th></th>\n",
       "      <th>precision@4</th>\n",
       "      <th>SPS@4</th>\n",
       "      <th>ndcg@4</th>\n",
       "      <th>ndcg@40</th>\n",
       "      <th>model_build_time</th>\n",
       "      <th>model_inference_time</th>\n",
       "      <th>model_metadata</th>\n",
       "      <th>metrics_history</th>\n",
       "    </tr>\n",
       "    <tr>\n",
       "      <th>model_name</th>\n",
       "      <th></th>\n",
       "      <th></th>\n",
       "      <th></th>\n",
       "      <th></th>\n",
       "      <th></th>\n",
       "      <th></th>\n",
       "      <th></th>\n",
       "      <th></th>\n",
       "    </tr>\n",
       "  </thead>\n",
       "  <tbody>\n",
       "    <tr>\n",
       "      <th>top_recommender</th>\n",
       "      <td>0.012525</td>\n",
       "      <td>0.050100</td>\n",
       "      <td>0.028325</td>\n",
       "      <td>0.075407</td>\n",
       "      <td>0.109125</td>\n",
       "      <td>0.026073</td>\n",
       "      <td>{}</td>\n",
       "      <td>[]</td>\n",
       "    </tr>\n",
       "    <tr>\n",
       "      <th>conditional_top_recommender</th>\n",
       "      <td>0.089763</td>\n",
       "      <td>0.355711</td>\n",
       "      <td>0.269893</td>\n",
       "      <td>0.346563</td>\n",
       "      <td>0.009286</td>\n",
       "      <td>0.031916</td>\n",
       "      <td>{}</td>\n",
       "      <td>[]</td>\n",
       "    </tr>\n",
       "    <tr>\n",
       "      <th>transitions_chain_recommender</th>\n",
       "      <td>0.114228</td>\n",
       "      <td>0.456914</td>\n",
       "      <td>0.353790</td>\n",
       "      <td>0.438548</td>\n",
       "      <td>1.572902</td>\n",
       "      <td>12.820021</td>\n",
       "      <td>{}</td>\n",
       "      <td>[]</td>\n",
       "    </tr>\n",
       "    <tr>\n",
       "      <th>APREC-GMLPHE-Lambdarank-256</th>\n",
       "      <td>0.127505</td>\n",
       "      <td>0.510020</td>\n",
       "      <td>0.409914</td>\n",
       "      <td>0.487177</td>\n",
       "      <td>30539.990019</td>\n",
       "      <td>32.086468</td>\n",
       "      <td>{'epochs_trained': 47, 'best_val_ndcg': 0.5281...</td>\n",
       "      <td>[{'loss': 5.4684, 'ndcg_at_40': 0.18, 'Success...</td>\n",
       "    </tr>\n",
       "  </tbody>\n",
       "</table>\n",
       "</div>"
      ],
      "text/plain": [
       "                               precision@4     SPS@4    ndcg@4   ndcg@40  \\\n",
       "model_name                                                                 \n",
       "top_recommender                   0.012525  0.050100  0.028325  0.075407   \n",
       "conditional_top_recommender       0.089763  0.355711  0.269893  0.346563   \n",
       "transitions_chain_recommender     0.114228  0.456914  0.353790  0.438548   \n",
       "APREC-GMLPHE-Lambdarank-256       0.127505  0.510020  0.409914  0.487177   \n",
       "\n",
       "                               model_build_time  model_inference_time  \\\n",
       "model_name                                                              \n",
       "top_recommender                        0.109125              0.026073   \n",
       "conditional_top_recommender            0.009286              0.031916   \n",
       "transitions_chain_recommender          1.572902             12.820021   \n",
       "APREC-GMLPHE-Lambdarank-256        30539.990019             32.086468   \n",
       "\n",
       "                                                                  model_metadata  \\\n",
       "model_name                                                                         \n",
       "top_recommender                                                               {}   \n",
       "conditional_top_recommender                                                   {}   \n",
       "transitions_chain_recommender                                                 {}   \n",
       "APREC-GMLPHE-Lambdarank-256    {'epochs_trained': 47, 'best_val_ndcg': 0.5281...   \n",
       "\n",
       "                                                                 metrics_history  \n",
       "model_name                                                                        \n",
       "top_recommender                                                               []  \n",
       "conditional_top_recommender                                                   []  \n",
       "transitions_chain_recommender                                                 []  \n",
       "APREC-GMLPHE-Lambdarank-256    [{'loss': 5.4684, 'ndcg_at_40': 0.18, 'Success...  "
      ]
     },
     "execution_count": 4,
     "metadata": {},
     "output_type": "execute_result"
    }
   ],
   "source": [
    "df = pd.DataFrame(data).set_index('model_name').sort_values('ndcg@40')\n",
    "df"
   ]
  },
  {
   "cell_type": "code",
   "execution_count": 5,
   "metadata": {
    "scrolled": false
   },
   "outputs": [
    {
     "data": {
      "text/plain": [
       "<matplotlib.legend.Legend at 0x7f4464a1ac70>"
      ]
     },
     "execution_count": 5,
     "metadata": {},
     "output_type": "execute_result"
    },
    {
     "data": {
      "image/png": "[encoded data removed]",
      "text/plain": [
       "<Figure size 576x324 with 1 Axes>"
      ]
     },
     "metadata": {
      "needs_background": "light"
     },
     "output_type": "display_data"
    }
   ],
   "source": [
    "def get_metric(metric_history, metric_name):\n",
    "    result = []\n",
    "    for item in metric_history:\n",
    "        try:\n",
    "            result.append(item[metric_name])\n",
    "        except:\n",
    "            print(item)\n",
    "    return result\n",
    "\n",
    "plt.figure(figsize=(8, 4.5))\n",
    "for recommender in data:\n",
    "    if len(recommender['metrics_history']) > 0:\n",
    "        history = recommender['metrics_history']\n",
    "        ndcg = get_metric(history, 'ndcg_at_40')\n",
    "        val_ndcg = get_metric(history, 'val_ndcg_at_40')\n",
    "        \n",
    "        success = get_metric(history, 'Success_at_4')\n",
    "        val_success = get_metric(history, 'val_Success_at_4')\n",
    "        \n",
    "        plt.plot(val_ndcg, label=recommender['model_name'] + \"››\")\n",
    "        plt.plot(val_success, label=recommender['model_name'] + \"_val_sps\")\n",
    "plt.legend()\n"
   ]
  },
  {
   "cell_type": "code",
   "execution_count": 42,
   "metadata": {},
   "outputs": [
    {
     "data": {
      "text/plain": [
       "[(0, 0.1841),\n",
       " (1, 0.3207),\n",
       " (2, 0.3365),\n",
       " (3, 0.3457),\n",
       " (4, 0.3509),\n",
       " (5, 0.3547),\n",
       " (6, 0.3591),\n",
       " (7, 0.3617),\n",
       " (8, 0.3634),\n",
       " (9, 0.3675),\n",
       " (10, 0.3686),\n",
       " (11, 0.3715),\n",
       " (12, 0.3738),\n",
       " (13, 0.3749),\n",
       " (14, 0.376),\n",
       " (15, 0.3802),\n",
       " (16, 0.3797),\n",
       " (17, 0.3808),\n",
       " (18, 0.3826),\n",
       " (19, 0.3839),\n",
       " (20, 0.3845),\n",
       " (21, 0.385),\n",
       " (22, 0.3861),\n",
       " (23, 0.388),\n",
       " (24, 0.3898),\n",
       " (25, 0.3898),\n",
       " (26, 0.3911),\n",
       " (27, 0.3928),\n",
       " (28, 0.3934),\n",
       " (29, 0.3945),\n",
       " (30, 0.3952),\n",
       " (31, 0.3963),\n",
       " (32, 0.3967),\n",
       " (33, 0.3973),\n",
       " (34, 0.3978),\n",
       " (35, 0.3988),\n",
       " (36, 0.401),\n",
       " (37, 0.3999),\n",
       " (38, 0.4006),\n",
       " (39, 0.4025),\n",
       " (40, 0.4036),\n",
       " (41, 0.4036),\n",
       " (42, 0.403),\n",
       " (43, 0.4049),\n",
       " (44, 0.4062),\n",
       " (45, 0.4066),\n",
       " (46, 0.408),\n",
       " (47, 0.4075),\n",
       " (48, 0.4097),\n",
       " (49, 0.4097),\n",
       " (50, 0.4099),\n",
       " (51, 0.4109),\n",
       " (52, 0.4104),\n",
       " (53, 0.4127),\n",
       " (54, 0.4123),\n",
       " (55, 0.4121),\n",
       " (56, 0.4136),\n",
       " (57, 0.4146),\n",
       " (58, 0.4145),\n",
       " (59, 0.4142),\n",
       " (60, 0.4156),\n",
       " (61, 0.4166),\n",
       " (62, 0.417),\n",
       " (63, 0.4172),\n",
       " (64, 0.4176),\n",
       " (65, 0.4183),\n",
       " (66, 0.4198),\n",
       " (67, 0.4194),\n",
       " (68, 0.4204),\n",
       " (69, 0.4214),\n",
       " (70, 0.4206),\n",
       " (71, 0.4216),\n",
       " (72, 0.4231),\n",
       " (73, 0.4234),\n",
       " (74, 0.4232)]"
      ]
     },
     "execution_count": 42,
     "metadata": {},
     "output_type": "execute_result"
    }
   ],
   "source": [
    "list(enumerate(pd.DataFrame(data[4]['metrics_history'])['ndcg_at_40']))"
   ]
  },
  {
   "cell_type": "code",
   "execution_count": 37,
   "metadata": {},
   "outputs": [
    {
     "data": {
      "text/plain": [
       "0.5014"
      ]
     },
     "execution_count": 37,
     "metadata": {},
     "output_type": "execute_result"
    }
   ],
   "source": [
    "max(pd.DataFrame(data[4]['metrics_history'])['val_Success_at_4'])"
   ]
  },
  {
   "cell_type": "code",
   "execution_count": 10,
   "metadata": {},
   "outputs": [],
   "source": [
    "best = 0\n",
    "time_since_best = []\n",
    "for i in range (1, len(arr)):\n",
    "    if arr[i] > arr[best]:\n",
    "        best = i\n",
    "    time_since_best.append(i - best)"
   ]
  },
  {
   "cell_type": "code",
   "execution_count": 12,
   "metadata": {},
   "outputs": [
    {
     "data": {
      "text/plain": [
       "[<matplotlib.lines.Line2D at 0x7f8421ebc700>]"
      ]
     },
     "execution_count": 12,
     "metadata": {},
     "output_type": "execute_result"
    }
   ],
   "source": [
    "plt.plot(time_since_best)"
   ]
  },
  {
   "cell_type": "code",
   "execution_count": null,
   "metadata": {},
   "outputs": [],
   "source": []
  }
 ],
 "metadata": {
  "kernelspec": {
   "display_name": "Python 3",
   "language": "python",
   "name": "python3"
  },
  "language_info": {
   "codemirror_mode": {
    "name": "ipython",
    "version": 3
   },
   "file_extension": ".py",
   "mimetype": "text/x-python",
   "name": "python",
   "nbconvert_exporter": "python",
   "pygments_lexer": "ipython3",
   "version": "3.8.6"
  }
 },
 "nbformat": 4,
 "nbformat_minor": 4
}
