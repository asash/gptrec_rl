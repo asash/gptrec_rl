{
 "cells": [
  {
   "cell_type": "code",
   "execution_count": 1,
   "metadata": {},
   "outputs": [],
   "source": [
    "%matplotlib inline\n",
    "from matplotlib import pyplot as plt\n",
    "from collections import defaultdict\n",
    "import json\n",
    "import numpy as np\n",
    "import pandas as pd\n",
    "import re"
   ]
  },
  {
   "cell_type": "code",
   "execution_count": 2,
   "metadata": {},
   "outputs": [],
   "source": [
    "def is_experiment_start(line):\n",
    "    return line.startswith('evaluating for')\n",
    "\n",
    "def skip_n_experiments(input_file, experiment_num):\n",
    "    current_experiment = 0\n",
    "    while current_experiment < experiment_num:\n",
    "        line = input_file.readline()\n",
    "        if is_experiment_start(line):\n",
    "            current_experiment += 1\n",
    "            \n",
    "def get_metrics(line):\n",
    "    regexp = re.compile(r'[a-zA-Z0-9_]+\\: [0-9\\.]+')\n",
    "    result = {}\n",
    "    for metric_str in regexp.findall(line):\n",
    "        metric, value = metric_str.split(': ')\n",
    "        result[metric] = float(value)\n",
    "    return result\n",
    "    \n",
    "            \n",
    "def parse_experiment(experiment_log):\n",
    "    current_recommender = None\n",
    "    result = []\n",
    "    cnt =0\n",
    "    metrics = []\n",
    "    for line in experiment_log:\n",
    "            if line.startswith('evaluating '):\n",
    "                current_recommender = line.split(' ')[1]\n",
    "                metrics = []\n",
    "            if 'val_ndcg_at_40' in line:\n",
    "                    metrics.append(get_metrics(line))\n",
    "            try:\n",
    "                experiment_results = json.loads(line)\n",
    "                experiment_results['model_name'] =  current_recommender\n",
    "                experiment_results['metrics_history'] = metrics\n",
    "                result.append(experiment_results)\n",
    "            except:\n",
    "                pass\n",
    "    return result\n",
    "\n",
    "def get_data_from_logs(logfile, experiment_num):\n",
    "    current_experiment = 0\n",
    "    with open(logfile) as input_file:\n",
    "        skip_n_experiments(input_file, experiment_num)\n",
    "        experiment_log = []\n",
    "        for line in input_file:\n",
    "            if is_experiment_start(line):\n",
    "                break\n",
    "            else:\n",
    "                experiment_log.append(line.strip())\n",
    "        return parse_experiment(experiment_log)"
   ]
  },
  {
   "cell_type": "code",
   "execution_count": 3,
   "metadata": {},
   "outputs": [],
   "source": [
    "def moving_average(x, w):\n",
    "    return np.convolve(x, np.ones(w), 'valid') / w"
   ]
  },
  {
   "cell_type": "code",
   "execution_count": 4,
   "metadata": {},
   "outputs": [],
   "source": [
    "experiment_logs = './results/booking_config_2021_01_16T14_07_20/stdout'\n",
    "data = get_data_from_logs(experiment_logs, 0)\n"
   ]
  },
  {
   "cell_type": "code",
   "execution_count": 5,
   "metadata": {},
   "outputs": [
    {
     "data": {
      "text/html": [
       "<div>\n",
       "<style scoped>\n",
       "    .dataframe tbody tr th:only-of-type {\n",
       "        vertical-align: middle;\n",
       "    }\n",
       "\n",
       "    .dataframe tbody tr th {\n",
       "        vertical-align: top;\n",
       "    }\n",
       "\n",
       "    .dataframe thead th {\n",
       "        text-align: right;\n",
       "    }\n",
       "</style>\n",
       "<table border=\"1\" class=\"dataframe\">\n",
       "  <thead>\n",
       "    <tr style=\"text-align: right;\">\n",
       "      <th></th>\n",
       "      <th>precision@4</th>\n",
       "      <th>SPS@4</th>\n",
       "      <th>ndcg@4</th>\n",
       "      <th>ndcg@40</th>\n",
       "      <th>model_build_time</th>\n",
       "      <th>model_inference_time</th>\n",
       "      <th>model_metadata</th>\n",
       "      <th>metrics_history</th>\n",
       "    </tr>\n",
       "    <tr>\n",
       "      <th>model_name</th>\n",
       "      <th></th>\n",
       "      <th></th>\n",
       "      <th></th>\n",
       "      <th></th>\n",
       "      <th></th>\n",
       "      <th></th>\n",
       "      <th></th>\n",
       "      <th></th>\n",
       "    </tr>\n",
       "  </thead>\n",
       "  <tbody>\n",
       "    <tr>\n",
       "      <th>top_recommender</th>\n",
       "      <td>0.012525</td>\n",
       "      <td>0.050100</td>\n",
       "      <td>0.028325</td>\n",
       "      <td>0.075407</td>\n",
       "      <td>0.109125</td>\n",
       "      <td>0.026073</td>\n",
       "      <td>{}</td>\n",
       "      <td>[]</td>\n",
       "    </tr>\n",
       "    <tr>\n",
       "      <th>conditional_top_recommender</th>\n",
       "      <td>0.089763</td>\n",
       "      <td>0.355711</td>\n",
       "      <td>0.269893</td>\n",
       "      <td>0.346563</td>\n",
       "      <td>0.009286</td>\n",
       "      <td>0.031916</td>\n",
       "      <td>{}</td>\n",
       "      <td>[]</td>\n",
       "    </tr>\n",
       "    <tr>\n",
       "      <th>transitions_chain_recommender</th>\n",
       "      <td>0.114228</td>\n",
       "      <td>0.456914</td>\n",
       "      <td>0.353790</td>\n",
       "      <td>0.438548</td>\n",
       "      <td>1.572902</td>\n",
       "      <td>12.820021</td>\n",
       "      <td>{}</td>\n",
       "      <td>[]</td>\n",
       "    </tr>\n",
       "    <tr>\n",
       "      <th>APREC-GMLPHE-Lambdarank-256</th>\n",
       "      <td>0.127505</td>\n",
       "      <td>0.510020</td>\n",
       "      <td>0.409914</td>\n",
       "      <td>0.487177</td>\n",
       "      <td>30539.990019</td>\n",
       "      <td>32.086468</td>\n",
       "      <td>{'epochs_trained': 47, 'best_val_ndcg': 0.5281...</td>\n",
       "      <td>[{'loss': 5.4684, 'ndcg_at_40': 0.18, 'Success...</td>\n",
       "    </tr>\n",
       "  </tbody>\n",
       "</table>\n",
       "</div>"
      ],
      "text/plain": [
       "                               precision@4     SPS@4    ndcg@4   ndcg@40  \\\n",
       "model_name                                                                 \n",
       "top_recommender                   0.012525  0.050100  0.028325  0.075407   \n",
       "conditional_top_recommender       0.089763  0.355711  0.269893  0.346563   \n",
       "transitions_chain_recommender     0.114228  0.456914  0.353790  0.438548   \n",
       "APREC-GMLPHE-Lambdarank-256       0.127505  0.510020  0.409914  0.487177   \n",
       "\n",
       "                               model_build_time  model_inference_time  \\\n",
       "model_name                                                              \n",
       "top_recommender                        0.109125              0.026073   \n",
       "conditional_top_recommender            0.009286              0.031916   \n",
       "transitions_chain_recommender          1.572902             12.820021   \n",
       "APREC-GMLPHE-Lambdarank-256        30539.990019             32.086468   \n",
       "\n",
       "                                                                  model_metadata  \\\n",
       "model_name                                                                         \n",
       "top_recommender                                                               {}   \n",
       "conditional_top_recommender                                                   {}   \n",
       "transitions_chain_recommender                                                 {}   \n",
       "APREC-GMLPHE-Lambdarank-256    {'epochs_trained': 47, 'best_val_ndcg': 0.5281...   \n",
       "\n",
       "                                                                 metrics_history  \n",
       "model_name                                                                        \n",
       "top_recommender                                                               []  \n",
       "conditional_top_recommender                                                   []  \n",
       "transitions_chain_recommender                                                 []  \n",
       "APREC-GMLPHE-Lambdarank-256    [{'loss': 5.4684, 'ndcg_at_40': 0.18, 'Success...  "
      ]
     },
     "execution_count": 5,
     "metadata": {},
     "output_type": "execute_result"
    }
   ],
   "source": [
    "df = pd.DataFrame(data).set_index('model_name').sort_values('ndcg@40')\n",
    "df"
   ]
  },
  {
   "cell_type": "code",
   "execution_count": 6,
   "metadata": {
    "scrolled": false
   },
   "outputs": [
    {
     "data": {
      "text/plain": [
       "<matplotlib.legend.Legend at 0x7fc2e561e160>"
      ]
     },
     "execution_count": 6,
     "metadata": {},
     "output_type": "execute_result"
    },
    {
     "data": {
      "image/png": "[encoded data removed]",
      "text/plain": [
       "<Figure size 576x324 with 1 Axes>"
      ]
     },
     "metadata": {
      "needs_background": "light"
     },
     "output_type": "display_data"
    }
   ],
   "source": [
    "def get_metric(metric_history, metric_name):\n",
    "    result = []\n",
    "    for item in metric_history:\n",
    "        try:\n",
    "            result.append(item[metric_name])\n",
    "        except:\n",
    "            print(item)\n",
    "    return result\n",
    "\n",
    "plt.figure(figsize=(8, 4.5))\n",
    "for recommender in data:\n",
    "    if len(recommender['metrics_history']) > 0:\n",
    "        history = recommender['metrics_history']\n",
    "        ndcg = get_metric(history, 'ndcg_at_40')\n",
    "        val_ndcg = get_metric(history, 'val_ndcg_at_40')\n",
    "        \n",
    "        success = get_metric(history, 'Success_at_4')\n",
    "        val_success = get_metric(history, 'val_Success_at_4')\n",
    "        \n",
    "        plt.plot(val_ndcg, label=recommender['model_name'] + \"››\")\n",
    "        plt.plot(val_success, label=recommender['model_name'] + \"_val_sps\")\n",
    "plt.legend()\n"
   ]
  },
  {
   "cell_type": "code",
   "execution_count": null,
   "metadata": {},
   "outputs": [],
   "source": [
    "list(enumerate(pd.DataFrame(data[3]['metrics_history'])['ndcg_at_40']))"
   ]
  },
  {
   "cell_type": "code",
   "execution_count": 14,
   "metadata": {},
   "outputs": [],
   "source": [
    "df = pd.DataFrame(data[3]['metrics_history'])"
   ]
  },
  {
   "cell_type": "code",
   "execution_count": 16,
   "metadata": {
    "scrolled": false
   },
   "outputs": [
    {
     "name": "stdout",
     "output_type": "stream",
     "text": [
      "       loss  ndcg_at_40  Success_at_4  val_loss  val_ndcg_at_40  \\\n",
      "0    5.4684      0.1800        0.2313    9.4373          0.3903   \n",
      "1    9.6133      0.3269        0.4488   14.1250          0.4065   \n",
      "2   10.7155      0.3434        0.4731   26.7554          0.3799   \n",
      "3   11.7041      0.3519        0.4844   15.6758          0.4306   \n",
      "4   12.6148      0.3587        0.4943   36.1258          0.3635   \n",
      "5   13.6542      0.3646        0.5022   21.5560          0.4204   \n",
      "6   14.6213      0.3686        0.5089   20.2041          0.4577   \n",
      "7   15.5128      0.3725        0.5147   21.9885          0.4587   \n",
      "8   16.4286      0.3747        0.5180   24.7055          0.4516   \n",
      "9   17.3521      0.3784        0.5228   25.2461          0.4534   \n",
      "10  18.1123      0.3801        0.5260   22.3424          0.4719   \n",
      "11  18.9395      0.3814        0.5270   24.0332          0.4527   \n",
      "12  19.7471      0.3845        0.5319   29.0355          0.4479   \n",
      "13  20.4985      0.3867        0.5348   28.3707          0.4631   \n",
      "14  21.2198      0.3885        0.5370   28.5026          0.4521   \n",
      "15  21.7807      0.3899        0.5394   26.2862          0.4715   \n",
      "16  22.3897      0.3918        0.5428   31.8031          0.4831   \n",
      "17  22.7880      0.3921        0.5437   32.3516          0.4274   \n",
      "18  23.3439      0.3946        0.5474   31.9215          0.4434   \n",
      "19  23.6755      0.3949        0.5473   30.3500          0.4903   \n",
      "20  24.1516      0.3976        0.5514   29.9999          0.4587   \n",
      "21  24.5858      0.3989        0.5528   26.8563          0.4852   \n",
      "22  24.9441      0.4001        0.5546   33.7788          0.4765   \n",
      "23  25.2973      0.4016        0.5573   31.5731          0.4928   \n",
      "24  25.6196      0.4022        0.5576   30.0384          0.4849   \n",
      "25  25.9370      0.4038        0.5595   33.1641          0.4907   \n",
      "26  26.1924      0.4044        0.5617   31.1815          0.4906   \n",
      "27  26.6090      0.4063        0.5632   34.2377          0.4885   \n",
      "28  26.9436      0.4070        0.5640   30.1951          0.4895   \n",
      "29  27.0419      0.4078        0.5660   33.5938          0.4941   \n",
      "30  27.3841      0.4090        0.5667   28.6146          0.4904   \n",
      "31  27.6930      0.4104        0.5692   34.9405          0.4884   \n",
      "32  28.0652      0.4124        0.5721   36.3648          0.4926   \n",
      "33  28.3644      0.4130        0.5733   36.7090          0.4925   \n",
      "34  28.5163      0.4121        0.5728   35.8999          0.4927   \n",
      "35  28.8328      0.4153        0.5774   37.4249          0.4903   \n",
      "36  29.0052      0.4150        0.5754   35.0353          0.4950   \n",
      "37  29.3435      0.4170        0.5794   39.2666          0.4932   \n",
      "38  29.6151      0.4170        0.5786   37.1421          0.4965   \n",
      "39  29.9240      0.4186        0.5822   38.4804          0.4946   \n",
      "40  30.0137      0.4178        0.5793   39.9376          0.4976   \n",
      "41  30.3580      0.4199        0.5835   40.3654          0.4922   \n",
      "42  30.5485      0.4208        0.5856   43.2354          0.4943   \n",
      "43  30.7561      0.4213        0.5855   40.2293          0.4944   \n",
      "44  31.1547      0.4232        0.5881   42.6821          0.4945   \n",
      "45  31.3683      0.4232        0.5880   36.4665          0.4946   \n",
      "46  31.4658      0.4233        0.5890   43.8944          0.4984   \n",
      "47  31.8187      0.4246        0.5902   40.7094          0.4958   \n",
      "48  32.1529      0.4268        0.5928   45.6056          0.4958   \n",
      "49  32.2877      0.4255        0.5913   36.6363          0.4962   \n",
      "50  32.6022      0.4279        0.5951   42.4559          0.4948   \n",
      "51  32.8226      0.4285        0.5958   42.2102          0.4985   \n",
      "52  33.0589      0.4291        0.5965   44.1143          0.4949   \n",
      "53  33.2797      0.4308        0.6000   45.7994          0.4990   \n",
      "54  33.6735      0.4316        0.6003   45.5811          0.4941   \n",
      "55  33.7190      0.4315        0.6012   44.8480          0.4932   \n",
      "56  34.0249      0.4324        0.6018   39.2350          0.4949   \n",
      "57  34.2458      0.4334        0.6035   48.3441          0.4962   \n",
      "58  34.4583      0.4337        0.6037   50.2735          0.4971   \n",
      "59  34.6884      0.4342        0.6039   50.2849          0.4976   \n",
      "60  34.8819      0.4351        0.6060   47.9231          0.4966   \n",
      "61  35.1729      0.4356        0.6063   48.5194          0.4988   \n",
      "62  35.3670      0.4365        0.6071   42.4195          0.4959   \n",
      "63  35.4276      0.4369        0.6091   50.0273          0.4966   \n",
      "64  35.8798      0.4379        0.6100   50.2552          0.4999   \n",
      "65  36.0402      0.4387        0.6112   42.3901          0.4942   \n",
      "66  36.2090      0.4385        0.6108   49.4187          0.5007   \n",
      "\n",
      "    val_Success_at_4  \n",
      "0             0.3940  \n",
      "1             0.4084  \n",
      "2             0.3816  \n",
      "3             0.4450  \n",
      "4             0.3648  \n",
      "5             0.4257  \n",
      "6             0.4826  \n",
      "7             0.4762  \n",
      "8             0.4693  \n",
      "9             0.4782  \n",
      "10            0.4876  \n",
      "11            0.4688  \n",
      "12            0.4584  \n",
      "13            0.4752  \n",
      "14            0.4703  \n",
      "15            0.4866  \n",
      "16            0.5024  \n",
      "17            0.4450  \n",
      "18            0.4559  \n",
      "19            0.5074  \n",
      "20            0.4777  \n",
      "21            0.5019  \n",
      "22            0.4905  \n",
      "23            0.5163  \n",
      "24            0.4940  \n",
      "25            0.5064  \n",
      "26            0.5064  \n",
      "27            0.5064  \n",
      "28            0.5014  \n",
      "29            0.5113  \n",
      "30            0.5128  \n",
      "31            0.5094  \n",
      "32            0.5153  \n",
      "33            0.5103  \n",
      "34            0.5133  \n",
      "35            0.5054  \n",
      "36            0.5138  \n",
      "37            0.5153  \n",
      "38            0.5158  \n",
      "39            0.5183  \n",
      "40            0.5188  \n",
      "41            0.5188  \n",
      "42            0.5207  \n",
      "43            0.5128  \n",
      "44            0.5193  \n",
      "45            0.5118  \n",
      "46            0.5282  \n",
      "47            0.5118  \n",
      "48            0.5178  \n",
      "49            0.5158  \n",
      "50            0.5153  \n",
      "51            0.5193  \n",
      "52            0.5163  \n",
      "53            0.5183  \n",
      "54            0.5118  \n",
      "55            0.5103  \n",
      "56            0.5089  \n",
      "57            0.5173  \n",
      "58            0.5207  \n",
      "59            0.5183  \n",
      "60            0.5267  \n",
      "61            0.5178  \n",
      "62            0.5232  \n",
      "63            0.5212  \n",
      "64            0.5163  \n",
      "65            0.5089  \n",
      "66            0.5188  \n"
     ]
    }
   ],
   "source": [
    "with pd.option_context('display.max_rows', None, 'display.max_columns', None):  # more options can be specified also\n",
    "    print(df)"
   ]
  },
  {
   "cell_type": "code",
   "execution_count": null,
   "metadata": {},
   "outputs": [],
   "source": [
    "max(['val_Success_at_4'])"
   ]
  },
  {
   "cell_type": "code",
   "execution_count": 10,
   "metadata": {},
   "outputs": [],
   "source": [
    "best = 0\n",
    "time_since_best = []\n",
    "for i in range (1, len(arr)):\n",
    "    if arr[i] > arr[best]:\n",
    "        best = i\n",
    "    time_since_best.append(i - best)"
   ]
  },
  {
   "cell_type": "code",
   "execution_count": 12,
   "metadata": {},
   "outputs": [
    {
     "data": {
      "text/plain": [
       "[<matplotlib.lines.Line2D at 0x7f8421ebc700>]"
      ]
     },
     "execution_count": 12,
     "metadata": {},
     "output_type": "execute_result"
    }
   ],
   "source": [
    "plt.plot(time_since_best)"
   ]
  },
  {
   "cell_type": "code",
   "execution_count": null,
   "metadata": {},
   "outputs": [],
   "source": []
  }
 ],
 "metadata": {
  "kernelspec": {
   "display_name": "Python 3",
   "language": "python",
   "name": "python3"
  },
  "language_info": {
   "codemirror_mode": {
    "name": "ipython",
    "version": 3
   },
   "file_extension": ".py",
   "mimetype": "text/x-python",
   "name": "python",
   "nbconvert_exporter": "python",
   "pygments_lexer": "ipython3",
   "version": "3.8.6"
  }
 },
 "nbformat": 4,
 "nbformat_minor": 4
}
