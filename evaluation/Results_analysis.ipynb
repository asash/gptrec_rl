{
 "cells": [
  {
   "cell_type": "code",
   "execution_count": 129,
   "metadata": {},
   "outputs": [],
   "source": [
    "%matplotlib inline\n",
    "\n",
    "from matplotlib import pyplot as plt\n",
    "from collections import defaultdict\n",
    "import json\n",
    "import numpy as np\n",
    "import pandas as pd\n",
    "import re\n",
    "import sys\n",
    "import seaborn as sb\n",
    "from analyze_experiment_in_progress import get_data_from_logs\n",
    "sb.set()"
   ]
  },
  {
   "cell_type": "code",
   "execution_count": 148,
   "metadata": {},
   "outputs": [],
   "source": [
    "#bert4rec outperforms everything\n",
    "#experiment_logs = './results/bert4rec_config_2021_11_04T17_15_31/stdout'\n",
    "\n",
    "#SALREC-BCE-Great\n",
    "#experiment_logs = './results/bert4rec_config_2021_11_07T22_26_10/stdout'\n",
    "\n",
    "\n",
    "#SALREC-Lambdarank 0.157107\n",
    "#experiment_logs = './results/ml_benchmark20m_2021_11_18T16_38_37/stdout'\n",
    "\n",
    "\n",
    "\n",
    "#Transformer-Lambdarank 0.1603\n",
    "#experiment_logs = './results/ml_benchmark20m_2021_11_19T17_43_30/stdout'\n",
    "\n",
    "#experiment_logs = './results/ml_benchmark20m_2021_11_23T14_39_04/stdout'\n",
    "\n",
    "#experiment_logs = './results/ml_benchmark20m_2021_11_25T09_41_35/stdout'\n",
    "\n",
    "#Fast Lambdarank on dekstop\n",
    "#experiment_logs = './results/ml_benchmark20m_2021_11_27T23_55_22/stdout'\n",
    "\n",
    "\n",
    "#Fast Lambdarank on dekstop - 40k, bce slightly better\n",
    "#experiment_logs = './results/ml_benchmark20m_2021_11_28T08_36_11/stdout'\n",
    "\n",
    "\n",
    "# Learning rate effects:\n",
    "\n",
    "# Lambdarank\n",
    "#experiment_logs = \"./results/ml_benchmark20m_2021_11_26T10_36_55/stdout\"\n",
    "#BCE\n",
    "experiment_logs = \"./results/ml_benchmark20m_2021_11_27T11_36_03/stdout\"\n",
    "\n",
    "\n",
    "\n",
    "#Truncation effects: \n",
    "#1-20\n",
    "#experiment_logs = \"./results/ml_benchmark20m_2021_11_28T18_14_50/stdout\"\n",
    "\n",
    "#30-120\n",
    "#experiment_logs = \"./results/ml_benchmark20m_2021_11_29T15_12_00/stdout\""
   ]
  },
  {
   "cell_type": "code",
   "execution_count": 149,
   "metadata": {},
   "outputs": [],
   "source": [
    "def moving_average(x, w):\n",
    "    return np.convolve(x, np.ones(w), 'valid') / w"
   ]
  },
  {
   "cell_type": "code",
   "execution_count": 150,
   "metadata": {},
   "outputs": [],
   "source": [
    "data = get_data_from_logs(experiment_logs, 0)"
   ]
  },
  {
   "cell_type": "code",
   "execution_count": 151,
   "metadata": {},
   "outputs": [
    {
     "data": {
      "text/html": [
       "<div>\n",
       "<style scoped>\n",
       "    .dataframe tbody tr th:only-of-type {\n",
       "        vertical-align: middle;\n",
       "    }\n",
       "\n",
       "    .dataframe tbody tr th {\n",
       "        vertical-align: top;\n",
       "    }\n",
       "\n",
       "    .dataframe thead th {\n",
       "        text-align: right;\n",
       "    }\n",
       "</style>\n",
       "<table border=\"1\" class=\"dataframe\">\n",
       "  <thead>\n",
       "    <tr style=\"text-align: right;\">\n",
       "      <th></th>\n",
       "      <th>ndcg@40</th>\n",
       "      <th>precision@5</th>\n",
       "      <th>recall@5</th>\n",
       "      <th>SPS@10</th>\n",
       "      <th>MRR</th>\n",
       "      <th>MAP@10</th>\n",
       "      <th>apr@10</th>\n",
       "      <th>pairwise_cos_sim@10</th>\n",
       "      <th>model_build_time</th>\n",
       "      <th>model_inference_time</th>\n",
       "      <th>model_metadata</th>\n",
       "      <th>num_epochs</th>\n",
       "      <th>metrics_history</th>\n",
       "    </tr>\n",
       "    <tr>\n",
       "      <th>model_name</th>\n",
       "      <th></th>\n",
       "      <th></th>\n",
       "      <th></th>\n",
       "      <th></th>\n",
       "      <th></th>\n",
       "      <th></th>\n",
       "      <th></th>\n",
       "      <th></th>\n",
       "      <th></th>\n",
       "      <th></th>\n",
       "      <th></th>\n",
       "      <th></th>\n",
       "      <th></th>\n",
       "    </tr>\n",
       "  </thead>\n",
       "  <tbody>\n",
       "    <tr>\n",
       "      <th>Transformer-BCE-blocks:3-lr:0.005</th>\n",
       "      <td>0.111306</td>\n",
       "      <td>0.01785</td>\n",
       "      <td>0.08925</td>\n",
       "      <td>0.14000</td>\n",
       "      <td>0.066642</td>\n",
       "      <td>0.054329</td>\n",
       "      <td>606.307075</td>\n",
       "      <td>0.110451</td>\n",
       "      <td>14425.330768</td>\n",
       "      <td>155.844782</td>\n",
       "      <td>{'epochs_trained': 192, 'best_val_ndcg': 0.09077351540327072, 'val_ndcg_history': [[70.2834575176239, 0.021948665380477905], [146.30579447746277, 0.01738707907497883], [221.09597373008728, 0.027255777269601822], [296.1847836971283, 0.020583588629961014...</td>\n",
       "      <td>192</td>\n",
       "      <td>[{'loss': 0.0032, 'ndcg_at_40': 0.0555, 'val_loss': 0.001, 'val_ndcg_at_40': 0.0219, 'epoch': 1, 'val_ndcg': 0.021948665380477905, 'best_ndcg': 0.021948665380477905, 'steps_since_improved': 0.0, 'total_training_time': 70.2834575176239}, {'loss': 0.0061...</td>\n",
       "    </tr>\n",
       "    <tr>\n",
       "      <th>Transformer-BCE-blocks:3-lr:0.002</th>\n",
       "      <td>0.131455</td>\n",
       "      <td>0.02125</td>\n",
       "      <td>0.10625</td>\n",
       "      <td>0.16625</td>\n",
       "      <td>0.080249</td>\n",
       "      <td>0.066747</td>\n",
       "      <td>795.555750</td>\n",
       "      <td>0.096703</td>\n",
       "      <td>14454.372747</td>\n",
       "      <td>155.374379</td>\n",
       "      <td>{'epochs_trained': 173, 'best_val_ndcg': 0.11232790350914001, 'val_ndcg_history': [[71.03625440597534, 0.022835947573184967], [147.1691517829895, 0.023948779329657555], [223.85024738311768, 0.02414972521364689], [301.24034428596497, 0.02129525691270828...</td>\n",
       "      <td>189</td>\n",
       "      <td>[{'loss': 0.0061, 'ndcg_at_40': 0.0521, 'val_loss': 0.001, 'val_ndcg_at_40': 0.0228, 'epoch': 1, 'val_ndcg': 0.022835947573184967, 'best_ndcg': 0.022835947573184967, 'steps_since_improved': 0.0, 'total_training_time': 71.03625440597534}, {'loss': 9.544...</td>\n",
       "    </tr>\n",
       "    <tr>\n",
       "      <th>Transformer-BCE-blocks:3-lr:0.001</th>\n",
       "      <td>0.149793</td>\n",
       "      <td>0.02410</td>\n",
       "      <td>0.12050</td>\n",
       "      <td>0.18650</td>\n",
       "      <td>0.092764</td>\n",
       "      <td>0.078417</td>\n",
       "      <td>832.149900</td>\n",
       "      <td>0.090737</td>\n",
       "      <td>14475.932717</td>\n",
       "      <td>157.455010</td>\n",
       "      <td>{'epochs_trained': 180, 'best_val_ndcg': 0.13134151697158813, 'val_ndcg_history': [[67.66087508201599, 0.027505777776241302], [144.08619141578674, 0.02049311064183712], [219.84385108947754, 0.036239899694919586], [295.6279125213623, 0.03338269889354706...</td>\n",
       "      <td>191</td>\n",
       "      <td>[{'loss': 0.0071, 'ndcg_at_40': 0.0559, 'val_loss': 0.001, 'val_ndcg_at_40': 0.0275, 'epoch': 1, 'val_ndcg': 0.027505777776241302, 'best_ndcg': 0.027505777776241302, 'steps_since_improved': 0.0, 'total_training_time': 67.66087508201599}, {'loss': 9.512...</td>\n",
       "    </tr>\n",
       "    <tr>\n",
       "      <th>Transformer-BCE-blocks:3-lr:0.0005</th>\n",
       "      <td>0.149371</td>\n",
       "      <td>0.02435</td>\n",
       "      <td>0.12175</td>\n",
       "      <td>0.18750</td>\n",
       "      <td>0.092132</td>\n",
       "      <td>0.077937</td>\n",
       "      <td>875.586725</td>\n",
       "      <td>0.091105</td>\n",
       "      <td>14435.177793</td>\n",
       "      <td>158.201163</td>\n",
       "      <td>{'epochs_trained': 176, 'best_val_ndcg': 0.12837165594100952, 'val_ndcg_history': [[68.62609910964966, 0.021336965262889862], [145.81687927246094, 0.028330300003290176], [221.92511081695557, 0.030035369098186493], [298.4106454849243, 0.0277368929237127...</td>\n",
       "      <td>190</td>\n",
       "      <td>[{'loss': 0.0111, 'ndcg_at_40': 0.0562, 'val_loss': 0.001, 'val_ndcg_at_40': 0.0213, 'epoch': 1, 'val_ndcg': 0.021336965262889862, 'best_ndcg': 0.021336965262889862, 'steps_since_improved': 0.0, 'total_training_time': 68.62609910964966}, {'loss': 9.399...</td>\n",
       "    </tr>\n",
       "    <tr>\n",
       "      <th>Transformer-BCE-blocks:3-lr:0.0002</th>\n",
       "      <td>0.111538</td>\n",
       "      <td>0.01670</td>\n",
       "      <td>0.08350</td>\n",
       "      <td>0.13425</td>\n",
       "      <td>0.067411</td>\n",
       "      <td>0.054561</td>\n",
       "      <td>710.847100</td>\n",
       "      <td>0.100251</td>\n",
       "      <td>14465.563792</td>\n",
       "      <td>159.922564</td>\n",
       "      <td>{'epochs_trained': 161, 'best_val_ndcg': 0.09356529265642166, 'val_ndcg_history': [[67.90508484840393, 0.028129875659942627], [144.89305925369263, 0.024253113195300102], [221.10758709907532, 0.021459084004163742], [297.40004658699036, 0.021183252334594...</td>\n",
       "      <td>190</td>\n",
       "      <td>[{'loss': 0.0204, 'ndcg_at_40': 0.0586, 'val_loss': 0.001, 'val_ndcg_at_40': 0.0281, 'epoch': 1, 'val_ndcg': 0.028129875659942627, 'best_ndcg': 0.028129875659942627, 'steps_since_improved': 0.0, 'total_training_time': 67.90508484840393}, {'loss': 9.412...</td>\n",
       "    </tr>\n",
       "    <tr>\n",
       "      <th>Transformer-BCE-blocks:3-lr:0.0001</th>\n",
       "      <td>0.108498</td>\n",
       "      <td>0.01625</td>\n",
       "      <td>0.08125</td>\n",
       "      <td>0.12950</td>\n",
       "      <td>0.065307</td>\n",
       "      <td>0.052706</td>\n",
       "      <td>699.376450</td>\n",
       "      <td>0.102008</td>\n",
       "      <td>14469.669937</td>\n",
       "      <td>160.074541</td>\n",
       "      <td>{'epochs_trained': 186, 'best_val_ndcg': 0.08648058772087097, 'val_ndcg_history': [[67.74561285972595, 0.022139042615890503], [145.38441348075867, 0.022381067276000977], [221.67512440681458, 0.022618873044848442], [298.7602241039276, 0.0238425731658935...</td>\n",
       "      <td>189</td>\n",
       "      <td>[{'loss': 0.0331, 'ndcg_at_40': 0.0571, 'val_loss': 0.001, 'val_ndcg_at_40': 0.0221, 'epoch': 1, 'val_ndcg': 0.022139042615890503, 'best_ndcg': 0.022139042615890503, 'steps_since_improved': 0.0, 'total_training_time': 67.74561285972595}, {'loss': 9.405...</td>\n",
       "    </tr>\n",
       "  </tbody>\n",
       "</table>\n",
       "</div>"
      ],
      "text/plain": [
       "                                     ndcg@40  precision@5  recall@5   SPS@10       MRR    MAP@10      apr@10  pairwise_cos_sim@10  model_build_time  model_inference_time                                                                                                                                                                                                                                                   model_metadata  num_epochs                                                                                                                                                                                                                                                  metrics_history\n",
       "model_name                                                                                                                                                                                                                                                                                                                                                                                                                                                                                                                                                                                                                                                                                                             \n",
       "Transformer-BCE-blocks:3-lr:0.005   0.111306      0.01785   0.08925  0.14000  0.066642  0.054329  606.307075             0.110451      14425.330768            155.844782  {'epochs_trained': 192, 'best_val_ndcg': 0.09077351540327072, 'val_ndcg_history': [[70.2834575176239, 0.021948665380477905], [146.30579447746277, 0.01738707907497883], [221.09597373008728, 0.027255777269601822], [296.1847836971283, 0.020583588629961014...         192  [{'loss': 0.0032, 'ndcg_at_40': 0.0555, 'val_loss': 0.001, 'val_ndcg_at_40': 0.0219, 'epoch': 1, 'val_ndcg': 0.021948665380477905, 'best_ndcg': 0.021948665380477905, 'steps_since_improved': 0.0, 'total_training_time': 70.2834575176239}, {'loss': 0.0061...\n",
       "Transformer-BCE-blocks:3-lr:0.002   0.131455      0.02125   0.10625  0.16625  0.080249  0.066747  795.555750             0.096703      14454.372747            155.374379  {'epochs_trained': 173, 'best_val_ndcg': 0.11232790350914001, 'val_ndcg_history': [[71.03625440597534, 0.022835947573184967], [147.1691517829895, 0.023948779329657555], [223.85024738311768, 0.02414972521364689], [301.24034428596497, 0.02129525691270828...         189  [{'loss': 0.0061, 'ndcg_at_40': 0.0521, 'val_loss': 0.001, 'val_ndcg_at_40': 0.0228, 'epoch': 1, 'val_ndcg': 0.022835947573184967, 'best_ndcg': 0.022835947573184967, 'steps_since_improved': 0.0, 'total_training_time': 71.03625440597534}, {'loss': 9.544...\n",
       "Transformer-BCE-blocks:3-lr:0.001   0.149793      0.02410   0.12050  0.18650  0.092764  0.078417  832.149900             0.090737      14475.932717            157.455010  {'epochs_trained': 180, 'best_val_ndcg': 0.13134151697158813, 'val_ndcg_history': [[67.66087508201599, 0.027505777776241302], [144.08619141578674, 0.02049311064183712], [219.84385108947754, 0.036239899694919586], [295.6279125213623, 0.03338269889354706...         191  [{'loss': 0.0071, 'ndcg_at_40': 0.0559, 'val_loss': 0.001, 'val_ndcg_at_40': 0.0275, 'epoch': 1, 'val_ndcg': 0.027505777776241302, 'best_ndcg': 0.027505777776241302, 'steps_since_improved': 0.0, 'total_training_time': 67.66087508201599}, {'loss': 9.512...\n",
       "Transformer-BCE-blocks:3-lr:0.0005  0.149371      0.02435   0.12175  0.18750  0.092132  0.077937  875.586725             0.091105      14435.177793            158.201163  {'epochs_trained': 176, 'best_val_ndcg': 0.12837165594100952, 'val_ndcg_history': [[68.62609910964966, 0.021336965262889862], [145.81687927246094, 0.028330300003290176], [221.92511081695557, 0.030035369098186493], [298.4106454849243, 0.0277368929237127...         190  [{'loss': 0.0111, 'ndcg_at_40': 0.0562, 'val_loss': 0.001, 'val_ndcg_at_40': 0.0213, 'epoch': 1, 'val_ndcg': 0.021336965262889862, 'best_ndcg': 0.021336965262889862, 'steps_since_improved': 0.0, 'total_training_time': 68.62609910964966}, {'loss': 9.399...\n",
       "Transformer-BCE-blocks:3-lr:0.0002  0.111538      0.01670   0.08350  0.13425  0.067411  0.054561  710.847100             0.100251      14465.563792            159.922564  {'epochs_trained': 161, 'best_val_ndcg': 0.09356529265642166, 'val_ndcg_history': [[67.90508484840393, 0.028129875659942627], [144.89305925369263, 0.024253113195300102], [221.10758709907532, 0.021459084004163742], [297.40004658699036, 0.021183252334594...         190  [{'loss': 0.0204, 'ndcg_at_40': 0.0586, 'val_loss': 0.001, 'val_ndcg_at_40': 0.0281, 'epoch': 1, 'val_ndcg': 0.028129875659942627, 'best_ndcg': 0.028129875659942627, 'steps_since_improved': 0.0, 'total_training_time': 67.90508484840393}, {'loss': 9.412...\n",
       "Transformer-BCE-blocks:3-lr:0.0001  0.108498      0.01625   0.08125  0.12950  0.065307  0.052706  699.376450             0.102008      14469.669937            160.074541  {'epochs_trained': 186, 'best_val_ndcg': 0.08648058772087097, 'val_ndcg_history': [[67.74561285972595, 0.022139042615890503], [145.38441348075867, 0.022381067276000977], [221.67512440681458, 0.022618873044848442], [298.7602241039276, 0.0238425731658935...         189  [{'loss': 0.0331, 'ndcg_at_40': 0.0571, 'val_loss': 0.001, 'val_ndcg_at_40': 0.0221, 'epoch': 1, 'val_ndcg': 0.022139042615890503, 'best_ndcg': 0.022139042615890503, 'steps_since_improved': 0.0, 'total_training_time': 67.74561285972595}, {'loss': 9.405..."
      ]
     },
     "execution_count": 151,
     "metadata": {},
     "output_type": "execute_result"
    }
   ],
   "source": [
    "df = pd.DataFrame(data).set_index('model_name')\n",
    "df"
   ]
  },
  {
   "cell_type": "code",
   "execution_count": 152,
   "metadata": {},
   "outputs": [
    {
     "name": "stderr",
     "output_type": "stream",
     "text": [
      "No handles with labels found to put in legend.\n"
     ]
    },
    {
     "data": {
      "text/plain": [
       "<matplotlib.legend.Legend at 0x7fd82de7ed30>"
      ]
     },
     "execution_count": 152,
     "metadata": {},
     "output_type": "execute_result"
    },
    {
     "data": {
      "text/plain": [
       "<Figure size 1152x648 with 0 Axes>"
      ]
     },
     "metadata": {},
     "output_type": "display_data"
    },
    {
     "data": {
      "image/png": "[encoded data removed]",
      "text/plain": [
       "<Figure size 1152x648 with 2 Axes>"
      ]
     },
     "metadata": {},
     "output_type": "display_data"
    }
   ],
   "source": [
    "moving_average_steps=1\n",
    "max_points = 30000\n",
    "\n",
    "\n",
    "def get_metric(metric_history, metric_name):\n",
    "    result = []\n",
    "    for item in metric_history:\n",
    "        try:\n",
    "            result.append(item[metric_name])\n",
    "        except:\n",
    "            print(item)\n",
    "    return result\n",
    "\n",
    "plt.figure(figsize=(16, 9))\n",
    "\n",
    "axises = ['epoch', 'total_training_time']\n",
    "\n",
    "fig, ax = plt.subplots(1, len(axises))\n",
    "fig.set_figheight(9)\n",
    "fig.set_figwidth(16)\n",
    "\n",
    "interesting_models = ['Transformer-Lambdarank-blocks:3-lr:0.001-ndcg:50']\n",
    "second_metrics = {}\n",
    "\n",
    "for recommender in data:\n",
    "    if recommender['model_name'] not in interesting_models:\n",
    "        continue\n",
    "    if len(recommender['metrics_history']) > 0:\n",
    "        history = recommender['metrics_history']\n",
    "        metric_name = 'val_ndcg'\n",
    "        second_metric_name = 'ndcg_at_50'\n",
    "        metric = moving_average(get_metric(history, metric_name), moving_average_steps)[:max_points]\n",
    "        if second_metric_name != None:\n",
    "            second_metric = moving_average(get_metric(history, second_metric_name), moving_average_steps)[:max_points]\n",
    "        #success = get_metric(history, 'Success_at_4')\n",
    "        #val_success = moving_average(get_metric(history, 'val_Success_at_4'), 5)\n",
    "        \n",
    "        #plt.plot(val_success, label=recommender['model_name'] + \"val_sps\")\n",
    "        #plt.plot(success, label=recommender['model_name'] + \"sps\")\n",
    "        for axis_num in range(len(axises)):\n",
    "            axis_name = axises[axis_num]\n",
    "            axis = get_metric(history, axis_name)[moving_average_steps - 1:][:max_points]\n",
    "            ax[axis_num].plot(axis, metric,label=recommender['model_name'])\n",
    "            \n",
    "            ax[axis_num].set_xlabel(axis_name)\n",
    "            if axis_num == 0:\n",
    "                ax[axis_num].set_ylabel(metric_name)\n",
    "            \n",
    "            if (second_metric_name != None):\n",
    "                if axis_num not in second_metrics:\n",
    "                    second_metrics[axis_num] = ax[axis_num].twinx()\n",
    "                    print(axis_num, second_metrics.keys())\n",
    "                ax2 = second_metrics[axis_num]\n",
    "                if axis_num == 1:\n",
    "                    ax2.set_ylabel(second_metric_name)\n",
    "                ax2.plot(axis, second_metric, '--', label=recommender['model_name'],)\n",
    "\n",
    "            \n",
    "        #plt.plot(ndcg, label=recommender['model_name'] + \"ndcg\")\n",
    "        #plt.plot(val_success, label=recommender['model_name'] + \"_val_sps\")\n",
    "plt.legend()\n"
   ]
  },
  {
   "cell_type": "code",
   "execution_count": 147,
   "metadata": {},
   "outputs": [
    {
     "data": {
      "text/plain": [
       "(108, 12)"
      ]
     },
     "execution_count": 147,
     "metadata": {},
     "output_type": "execute_result"
    }
   ],
   "source": [
    "len(metric), len(metric) - np.argmax(metric) - 1"
   ]
  },
  {
   "cell_type": "code",
   "execution_count": 136,
   "metadata": {},
   "outputs": [
    {
     "data": {
      "text/plain": [
       "0.12517809867858887"
      ]
     },
     "execution_count": 136,
     "metadata": {},
     "output_type": "execute_result"
    }
   ],
   "source": [
    "max(metric)"
   ]
  },
  {
   "cell_type": "code",
   "execution_count": null,
   "metadata": {},
   "outputs": [],
   "source": []
  },
  {
   "cell_type": "code",
   "execution_count": null,
   "metadata": {},
   "outputs": [],
   "source": []
  }
 ],
 "metadata": {
  "kernelspec": {
   "display_name": "Python 3 (ipykernel)",
   "language": "python",
   "name": "python3"
  },
  "language_info": {
   "codemirror_mode": {
    "name": "ipython",
    "version": 3
   },
   "file_extension": ".py",
   "mimetype": "text/x-python",
   "name": "python",
   "nbconvert_exporter": "python",
   "pygments_lexer": "ipython3",
   "version": "3.9.7"
  }
 },
 "nbformat": 4,
 "nbformat_minor": 4
}
