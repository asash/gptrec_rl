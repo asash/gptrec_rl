{
 "cells": [
  {
   "cell_type": "code",
   "execution_count": 1,
   "id": "5d62af57",
   "metadata": {},
   "outputs": [],
   "source": [
    "import dill\n",
    "import gzip"
   ]
  },
  {
   "cell_type": "code",
   "execution_count": 2,
   "id": "3ebb6d78",
   "metadata": {},
   "outputs": [
    {
     "name": "stderr",
     "output_type": "stream",
     "text": [
      "2023-04-27 07:55:13.380877: I tensorflow/core/platform/cpu_feature_guard.cc:193] This TensorFlow binary is optimized with oneAPI Deep Neural Network Library (oneDNN) to use the following CPU instructions in performance-critical operations:  AVX2 FMA\n",
      "To enable them in other operations, rebuild TensorFlow with the appropriate compiler flags.\n",
      "2023-04-27 07:55:14.149647: W tensorflow/compiler/xla/stream_executor/platform/default/dso_loader.cc:64] Could not load dynamic library 'libnvinfer.so.7'; dlerror: libnvinfer.so.7: cannot open shared object file: No such file or directory\n",
      "2023-04-27 07:55:14.149690: W tensorflow/compiler/xla/stream_executor/platform/default/dso_loader.cc:64] Could not load dynamic library 'libnvinfer_plugin.so.7'; dlerror: libnvinfer_plugin.so.7: cannot open shared object file: No such file or directory\n",
      "2023-04-27 07:55:14.149694: W tensorflow/compiler/tf2tensorrt/utils/py_utils.cc:38] TF-TRT Warning: Cannot dlopen some TensorRT libraries. If you would like to use Nvidia GPU with TensorRT, please make sure the missing libraries mentioned above are installed properly.\n",
      "2023-04-27 07:55:15.154603: I tensorflow/compiler/xla/stream_executor/cuda/cuda_gpu_executor.cc:981] successful NUMA node read from SysFS had negative value (-1), but there must be at least one NUMA node, so returning NUMA node zero\n",
      "2023-04-27 07:55:15.201142: I tensorflow/compiler/xla/stream_executor/cuda/cuda_gpu_executor.cc:981] successful NUMA node read from SysFS had negative value (-1), but there must be at least one NUMA node, so returning NUMA node zero\n",
      "2023-04-27 07:55:15.201256: I tensorflow/compiler/xla/stream_executor/cuda/cuda_gpu_executor.cc:981] successful NUMA node read from SysFS had negative value (-1), but there must be at least one NUMA node, so returning NUMA node zero\n",
      "2023-04-27 07:55:15.203143: I tensorflow/core/platform/cpu_feature_guard.cc:193] This TensorFlow binary is optimized with oneAPI Deep Neural Network Library (oneDNN) to use the following CPU instructions in performance-critical operations:  AVX2 FMA\n",
      "To enable them in other operations, rebuild TensorFlow with the appropriate compiler flags.\n",
      "2023-04-27 07:55:15.204066: I tensorflow/compiler/xla/stream_executor/cuda/cuda_gpu_executor.cc:981] successful NUMA node read from SysFS had negative value (-1), but there must be at least one NUMA node, so returning NUMA node zero\n",
      "2023-04-27 07:55:15.204170: I tensorflow/compiler/xla/stream_executor/cuda/cuda_gpu_executor.cc:981] successful NUMA node read from SysFS had negative value (-1), but there must be at least one NUMA node, so returning NUMA node zero\n",
      "2023-04-27 07:55:15.204259: I tensorflow/compiler/xla/stream_executor/cuda/cuda_gpu_executor.cc:981] successful NUMA node read from SysFS had negative value (-1), but there must be at least one NUMA node, so returning NUMA node zero\n",
      "2023-04-27 07:55:15.633864: I tensorflow/compiler/xla/stream_executor/cuda/cuda_gpu_executor.cc:981] successful NUMA node read from SysFS had negative value (-1), but there must be at least one NUMA node, so returning NUMA node zero\n",
      "2023-04-27 07:55:15.634152: I tensorflow/compiler/xla/stream_executor/cuda/cuda_gpu_executor.cc:981] successful NUMA node read from SysFS had negative value (-1), but there must be at least one NUMA node, so returning NUMA node zero\n",
      "2023-04-27 07:55:15.634248: I tensorflow/compiler/xla/stream_executor/cuda/cuda_gpu_executor.cc:981] successful NUMA node read from SysFS had negative value (-1), but there must be at least one NUMA node, so returning NUMA node zero\n",
      "2023-04-27 07:55:15.634450: I tensorflow/core/common_runtime/gpu/gpu_device.cc:1613] Created device /job:localhost/replica:0/task:0/device:GPU:0 with 22128 MB memory:  -> device: 0, name: NVIDIA Graphics Device, pci bus id: 0000:2d:00.0, compute capability: 8.9\n"
     ]
    },
    {
     "name": "stdout",
     "output_type": "stream",
     "text": [
      "Keras model archive loading:\n",
      "File Name                                             Modified             Size\n",
      "variables.h5                                   2023-04-19 15:21:36     19936380\n",
      "metadata.json                                  2023-04-19 15:21:36           64\n",
      "config.json                                    2023-04-19 15:21:36          510\n"
     ]
    },
    {
     "name": "stderr",
     "output_type": "stream",
     "text": [
      "2023-04-27 07:55:18.330286: I tensorflow/compiler/xla/stream_executor/cuda/cuda_blas.cc:630] TensorFloat-32 will be used for the matrix multiplication. This will only be logged once.\n",
      "/home/alekspet/aprec/lib/python3.10/site-packages/transformers/generation/tf_utils.py:465: UserWarning: `seed_generator` is deprecated and will be removed in a future version.\n",
      "  warnings.warn(\"`seed_generator` is deprecated and will be removed in a future version.\", UserWarning)\n"
     ]
    },
    {
     "name": "stdout",
     "output_type": "stream",
     "text": [
      "Keras weights file (<HDF5 file \"variables.h5\" (mode r)>) loading:\n",
      "...gpt\n",
      "......layers\n",
      ".........tfgpt2_main_layer\n",
      "............drop\n",
      "...............vars\n",
      "............h\n",
      "...............tf_block\n",
      "..................attn\n",
      ".....................attn_dropout\n",
      "........................vars\n",
      ".....................c_attn\n",
      "........................vars\n",
      "...........................0\n",
      "...........................1\n",
      ".....................c_proj\n",
      "........................vars\n",
      "...........................0\n",
      "...........................1\n",
      ".....................resid_dropout\n",
      "........................vars\n",
      ".....................vars\n",
      "..................ln_1\n",
      ".....................vars\n",
      "........................0\n",
      "........................1\n",
      "..................ln_2\n",
      ".....................vars\n",
      "........................0\n",
      "........................1\n",
      "..................mlp\n",
      ".....................c_fc\n",
      "........................vars\n",
      "...........................0\n",
      "...........................1\n",
      ".....................c_proj\n",
      "........................vars\n",
      "...........................0\n",
      "...........................1\n",
      ".....................dropout\n",
      "........................vars\n",
      ".....................vars\n",
      "..................vars\n",
      "...............tf_block_1\n",
      "..................attn\n",
      ".....................attn_dropout\n",
      "........................vars\n",
      ".....................c_attn\n",
      "........................vars\n",
      "...........................0\n",
      "...........................1\n",
      ".....................c_proj\n",
      "........................vars\n",
      "...........................0\n",
      "...........................1\n",
      ".....................resid_dropout\n",
      "........................vars\n",
      ".....................vars\n",
      "..................ln_1\n",
      ".....................vars\n",
      "........................0\n",
      "........................1\n",
      "..................ln_2\n",
      ".....................vars\n",
      "........................0\n",
      "........................1\n",
      "..................mlp\n",
      ".....................c_fc\n",
      "........................vars\n",
      "...........................0\n",
      "...........................1\n",
      ".....................c_proj\n",
      "........................vars\n",
      "...........................0\n",
      "...........................1\n",
      ".....................dropout\n",
      "........................vars\n",
      ".....................vars\n",
      "..................vars\n",
      "...............tf_block_2\n",
      "..................attn\n",
      ".....................attn_dropout\n",
      "........................vars\n",
      ".....................c_attn\n",
      "........................vars\n",
      "...........................0\n",
      "...........................1\n",
      ".....................c_proj\n",
      "........................vars\n",
      "...........................0\n",
      "...........................1\n",
      ".....................resid_dropout\n",
      "........................vars\n",
      ".....................vars\n",
      "..................ln_1\n",
      ".....................vars\n",
      "........................0\n",
      "........................1\n",
      "..................ln_2\n",
      ".....................vars\n",
      "........................0\n",
      "........................1\n",
      "..................mlp\n",
      ".....................c_fc\n",
      "........................vars\n",
      "...........................0\n",
      "...........................1\n",
      ".....................c_proj\n",
      "........................vars\n",
      "...........................0\n",
      "...........................1\n",
      ".....................dropout\n",
      "........................vars\n",
      ".....................vars\n",
      "..................vars\n",
      "............ln_f\n",
      "...............vars\n",
      "..................0\n",
      "..................1\n",
      "............vars\n",
      "...............0\n",
      "............wte\n",
      "...............vars\n",
      "..................0\n",
      "......vars\n",
      "...layers\n",
      "......id_tokenizer\n",
      ".........vars\n",
      "............0\n",
      "............1\n",
      "............2\n",
      "............3\n",
      "............4\n",
      "...vars\n"
     ]
    }
   ],
   "source": [
    "model = dill.load(gzip.open(\"./results/BERT4rec.ml-1m/ml1m_generative_2023_04_18T16_32_02/checkpoints/gpt2rec-id.dill.gz\"))"
   ]
  },
  {
   "cell_type": "code",
   "execution_count": 3,
   "id": "6be2d003",
   "metadata": {},
   "outputs": [],
   "source": [
    "gptrec = model.recommender"
   ]
  },
  {
   "cell_type": "code",
   "execution_count": 4,
   "id": "44d6d1d2",
   "metadata": {},
   "outputs": [],
   "source": [
    "from aprec.datasets.datasets_register import DatasetsRegister"
   ]
  },
  {
   "cell_type": "code",
   "execution_count": 5,
   "id": "76e2cbd9",
   "metadata": {},
   "outputs": [],
   "source": [
    "register = DatasetsRegister()\n",
    "ml_dataset = register['BERT4rec.ml-1m']()"
   ]
  },
  {
   "cell_type": "code",
   "execution_count": 6,
   "id": "242eea2e",
   "metadata": {},
   "outputs": [],
   "source": [
    "from collections import defaultdict\n",
    "by_user = defaultdict(list)\n",
    "for action in ml_dataset:\n",
    "    uid = gptrec.users.get_id(action.user_id)\n",
    "    iid = gptrec.items.get_id(action.item_id)\n",
    "    by_user[uid].append(iid)"
   ]
  },
  {
   "cell_type": "code",
   "execution_count": 7,
   "id": "61c90b83",
   "metadata": {},
   "outputs": [
    {
     "name": "stderr",
     "output_type": "stream",
     "text": [
      "100%|███████████████████████████████████████| 6040/6040 [02:12<00:00, 45.63it/s]\n"
     ]
    }
   ],
   "source": [
    "import numpy as np\n",
    "\n",
    "gpt = gptrec.model.gpt\n",
    "import tensorflow as tf\n",
    "from tqdm import tqdm\n",
    "\n",
    "gt_pos = []\n",
    "for user in tqdm(by_user):\n",
    "    seq = by_user[user][:-1]\n",
    "    seen = set(seq)\n",
    "    test_act = by_user[user][-1]\n",
    "    gpt_input = tf.convert_to_tensor([seq])\n",
    "    output = gpt(gpt_input)\n",
    "    logits = output.logits[0,-1,:gptrec.items.size()]\n",
    "    res = np.argsort(logits)[::-1]\n",
    "    res = list(filter(lambda x: int(x) not in seen, res))\n",
    "    found = False\n",
    "    for j in range(len(res)):\n",
    "        if res[j] == test_act:\n",
    "            gt_pos.append(j+1)\n",
    "            found = True\n",
    "            break\n",
    "    assert(found)\n",
    "        \n",
    "            \n",
    "        "
   ]
  },
  {
   "cell_type": "code",
   "execution_count": 8,
   "id": "7f7e001d",
   "metadata": {},
   "outputs": [],
   "source": [
    "gt_pos = np.array(gt_pos)"
   ]
  },
  {
   "cell_type": "code",
   "execution_count": 9,
   "id": "36e390ef",
   "metadata": {},
   "outputs": [
    {
     "data": {
      "text/plain": [
       "0.580794701986755"
      ]
     },
     "execution_count": 9,
     "metadata": {},
     "output_type": "execute_result"
    }
   ],
   "source": [
    "def recall_k(pos, k):\n",
    "    return np.sum(pos <= k) / len(pos)\n",
    "\n",
    "def ndcg_k(pos, k):\n",
    "    ok = np.float32(pos <= k)\n",
    "    res = 1/np.log2(pos + 1)\n",
    "    return np.sum(res*ok) / len(pos)\n",
    "\n",
    "\n",
    "recall_k(gt_pos, 100)"
   ]
  },
  {
   "cell_type": "code",
   "execution_count": 10,
   "id": "a1f2d4ab",
   "metadata": {
    "scrolled": true
   },
   "outputs": [
    {
     "name": "stderr",
     "output_type": "stream",
     "text": [
      "100%|███████████████████████████████████████| 6040/6040 [19:28<00:00,  5.17it/s]\n"
     ]
    }
   ],
   "source": [
    "gen_rec_pos = []\n",
    "max_it = 10\n",
    "\n",
    "for user in tqdm(by_user):\n",
    "    seq = by_user[user][:-1]\n",
    "    seen = set(seq)\n",
    "    test_act = by_user[user][-1]\n",
    "    it = 1 \n",
    "    while True:\n",
    "        gpt_input = tf.convert_to_tensor([seq])\n",
    "        output = gpt(gpt_input)\n",
    "        logits = output.logits[0,-1,:gptrec.items.size()]\n",
    "        res = np.argsort(logits)[::-1]\n",
    "        res = list(filter(lambda x: int(x) not in seen, res))\n",
    "        if res[0] == test_act:\n",
    "            gen_rec_pos.append(it)\n",
    "            break\n",
    "        else:\n",
    "            seq.append(res[0])\n",
    "            seen.add(res[0])\n",
    "            #print(res[0], test_act)\n",
    "            it += 1\n",
    "            if it > max_it:\n",
    "                gen_rec_pos.append(it)\n",
    "                break"
   ]
  },
  {
   "cell_type": "code",
   "execution_count": 11,
   "id": "b24c7705",
   "metadata": {},
   "outputs": [],
   "source": [
    "gen_rec_pos = np.array(gen_rec_pos)"
   ]
  },
  {
   "cell_type": "code",
   "execution_count": 12,
   "id": "c8282bc8",
   "metadata": {},
   "outputs": [
    {
     "data": {
      "text/plain": [
       "0.15711920529801324"
      ]
     },
     "execution_count": 12,
     "metadata": {},
     "output_type": "execute_result"
    }
   ],
   "source": [
    "recall_k(gen_rec_pos, 10)"
   ]
  },
  {
   "cell_type": "code",
   "execution_count": 13,
   "id": "180dc137",
   "metadata": {},
   "outputs": [
    {
     "data": {
      "text/plain": [
       "0.10503794568013251"
      ]
     },
     "execution_count": 13,
     "metadata": {},
     "output_type": "execute_result"
    }
   ],
   "source": [
    "ndcg_k(gen_rec_pos, 10)"
   ]
  },
  {
   "cell_type": "code",
   "execution_count": 14,
   "id": "d0550228",
   "metadata": {},
   "outputs": [
    {
     "data": {
      "text/html": [
       "<div>\n",
       "<style scoped>\n",
       "    .dataframe tbody tr th:only-of-type {\n",
       "        vertical-align: middle;\n",
       "    }\n",
       "\n",
       "    .dataframe tbody tr th {\n",
       "        vertical-align: top;\n",
       "    }\n",
       "\n",
       "    .dataframe thead th {\n",
       "        text-align: right;\n",
       "    }\n",
       "</style>\n",
       "<table border=\"1\" class=\"dataframe\">\n",
       "  <thead>\n",
       "    <tr style=\"text-align: right;\">\n",
       "      <th></th>\n",
       "      <th>generative_ndcg@cutoff</th>\n",
       "      <th>topk_ndcg@cutoff</th>\n",
       "      <th>generative_recall@cutoff</th>\n",
       "      <th>topk_recall@cutoff</th>\n",
       "    </tr>\n",
       "    <tr>\n",
       "      <th>cutoff</th>\n",
       "      <th></th>\n",
       "      <th></th>\n",
       "      <th></th>\n",
       "      <th></th>\n",
       "    </tr>\n",
       "  </thead>\n",
       "  <tbody>\n",
       "    <tr>\n",
       "      <th>1</th>\n",
       "      <td>0.059272</td>\n",
       "      <td>0.059272</td>\n",
       "      <td>0.059272</td>\n",
       "      <td>0.059272</td>\n",
       "    </tr>\n",
       "    <tr>\n",
       "      <th>2</th>\n",
       "      <td>0.077761</td>\n",
       "      <td>0.084446</td>\n",
       "      <td>0.088576</td>\n",
       "      <td>0.099172</td>\n",
       "    </tr>\n",
       "    <tr>\n",
       "      <th>3</th>\n",
       "      <td>0.085956</td>\n",
       "      <td>0.098933</td>\n",
       "      <td>0.104967</td>\n",
       "      <td>0.128146</td>\n",
       "    </tr>\n",
       "    <tr>\n",
       "      <th>4</th>\n",
       "      <td>0.091732</td>\n",
       "      <td>0.108274</td>\n",
       "      <td>0.118377</td>\n",
       "      <td>0.149834</td>\n",
       "    </tr>\n",
       "    <tr>\n",
       "      <th>5</th>\n",
       "      <td>0.095895</td>\n",
       "      <td>0.116728</td>\n",
       "      <td>0.129139</td>\n",
       "      <td>0.171689</td>\n",
       "    </tr>\n",
       "    <tr>\n",
       "      <th>6</th>\n",
       "      <td>0.099197</td>\n",
       "      <td>0.122920</td>\n",
       "      <td>0.138411</td>\n",
       "      <td>0.189073</td>\n",
       "    </tr>\n",
       "    <tr>\n",
       "      <th>7</th>\n",
       "      <td>0.101295</td>\n",
       "      <td>0.128494</td>\n",
       "      <td>0.144702</td>\n",
       "      <td>0.205795</td>\n",
       "    </tr>\n",
       "    <tr>\n",
       "      <th>8</th>\n",
       "      <td>0.102496</td>\n",
       "      <td>0.133613</td>\n",
       "      <td>0.148510</td>\n",
       "      <td>0.222020</td>\n",
       "    </tr>\n",
       "    <tr>\n",
       "      <th>9</th>\n",
       "      <td>0.103841</td>\n",
       "      <td>0.138198</td>\n",
       "      <td>0.152980</td>\n",
       "      <td>0.237252</td>\n",
       "    </tr>\n",
       "    <tr>\n",
       "      <th>10</th>\n",
       "      <td>0.105038</td>\n",
       "      <td>0.142362</td>\n",
       "      <td>0.157119</td>\n",
       "      <td>0.251656</td>\n",
       "    </tr>\n",
       "  </tbody>\n",
       "</table>\n",
       "</div>"
      ],
      "text/plain": [
       "        generative_ndcg@cutoff  topk_ndcg@cutoff  generative_recall@cutoff  \\\n",
       "cutoff                                                                       \n",
       "1                     0.059272          0.059272                  0.059272   \n",
       "2                     0.077761          0.084446                  0.088576   \n",
       "3                     0.085956          0.098933                  0.104967   \n",
       "4                     0.091732          0.108274                  0.118377   \n",
       "5                     0.095895          0.116728                  0.129139   \n",
       "6                     0.099197          0.122920                  0.138411   \n",
       "7                     0.101295          0.128494                  0.144702   \n",
       "8                     0.102496          0.133613                  0.148510   \n",
       "9                     0.103841          0.138198                  0.152980   \n",
       "10                    0.105038          0.142362                  0.157119   \n",
       "\n",
       "        topk_recall@cutoff  \n",
       "cutoff                      \n",
       "1                 0.059272  \n",
       "2                 0.099172  \n",
       "3                 0.128146  \n",
       "4                 0.149834  \n",
       "5                 0.171689  \n",
       "6                 0.189073  \n",
       "7                 0.205795  \n",
       "8                 0.222020  \n",
       "9                 0.237252  \n",
       "10                0.251656  "
      ]
     },
     "execution_count": 14,
     "metadata": {},
     "output_type": "execute_result"
    }
   ],
   "source": [
    "docs = []\n",
    "import pandas as pd\n",
    "\n",
    "for i in range(1,11):\n",
    "    docs.append([i, ndcg_k(gen_rec_pos, i), ndcg_k(gt_pos, i), recall_k(gen_rec_pos, i), recall_k(gt_pos, i)])\n",
    "columns = [\"cutoff\", \"generative_ndcg@cutoff\", \"topk_ndcg@cutoff\", \"generative_recall@cutoff\", \"topk_recall@cutoff\"]\n",
    "res = pd.DataFrame(docs, columns=columns).set_index('cutoff')\n",
    "res"
   ]
  },
  {
   "cell_type": "code",
   "execution_count": 15,
   "id": "90031a79",
   "metadata": {},
   "outputs": [
    {
     "data": {
      "image/png": "[encoded data removed]",
      "text/plain": [
       "<Figure size 500x250 with 1 Axes>"
      ]
     },
     "metadata": {},
     "output_type": "display_data"
    }
   ],
   "source": [
    "import seaborn as sns\n",
    "import matplotlib.pyplot as plt\n",
    "import tikzplotlib\n",
    "\n",
    "\n",
    "\n",
    "sns.set_style('whitegrid')\n",
    "plt.figure(figsize=(5,2.5))\n",
    "plt.plot(res.index, res['generative_ndcg@cutoff'])\n",
    "plt.plot(res.index, res['topk_ndcg@cutoff'])\n",
    "plt.xticks([1,2,3,4,5,6,7,8,9,10])\n",
    "\n",
    "\n",
    "tikzplotlib.save(\"generative_ndcg.tex\")"
   ]
  },
  {
   "cell_type": "code",
   "execution_count": 18,
   "id": "c3ca903e",
   "metadata": {},
   "outputs": [
    {
     "name": "stdout",
     "output_type": "stream",
     "text": [
      "cutoff,generative_ndcg@cutoff,topk_ndcg@cutoff,generative_recall@cutoff,topk_recall@cutoff\n",
      "1,0.05927152317880795,0.05927152317880795,0.05927152317880795,0.05927152317880795\n",
      "2,0.07776068979836888,0.084446038180583,0.08857615894039735,0.09917218543046358\n",
      "3,0.08595605403677949,0.09893279314747042,0.10496688741721855,0.12814569536423842\n",
      "4,0.09173168337518094,0.10827362578118142,0.1183774834437086,0.1498344370860927\n",
      "5,0.09589483444641357,0.11672802487968464,0.1291390728476821,0.1716887417218543\n",
      "6,0.09919741763814359,0.12292036836417841,0.13841059602649006,0.1890728476821192\n",
      "7,0.1012945478809692,0.12849431979905698,0.1447019867549669,0.20579470198675498\n",
      "8,0.10249582141839829,0.13361278965418968,0.14850993377483443,0.22201986754966888\n",
      "9,0.10384148530630022,0.13819801475370727,0.15298013245033112,0.23725165562913908\n",
      "10,0.10503794568013251,0.14236169685464373,0.15711920529801324,0.25165562913907286\n",
      "\n"
     ]
    }
   ],
   "source": [
    "print(res.to_csv())"
   ]
  },
  {
   "cell_type": "code",
   "execution_count": null,
   "id": "a16c5c64",
   "metadata": {},
   "outputs": [],
   "source": []
  }
 ],
 "metadata": {
  "kernelspec": {
   "display_name": "Python 3 (ipykernel)",
   "language": "python",
   "name": "python3"
  },
  "language_info": {
   "codemirror_mode": {
    "name": "ipython",
    "version": 3
   },
   "file_extension": ".py",
   "mimetype": "text/x-python",
   "name": "python",
   "nbconvert_exporter": "python",
   "pygments_lexer": "ipython3",
   "version": "3.10.6"
  }
 },
 "nbformat": 4,
 "nbformat_minor": 5
}
