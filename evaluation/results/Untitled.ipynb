{
 "cells": [
  {
   "cell_type": "code",
   "execution_count": 36,
   "metadata": {},
   "outputs": [],
   "source": [
    "%matplotlib inline\n",
    "from matplotlib import pyplot as plt\n",
    "import json\n",
    "import os\n",
    "from collections import defaultdict\n",
    "import numpy as np\n",
    "import pandas as pd\n"
   ]
  },
  {
   "cell_type": "code",
   "execution_count": 37,
   "metadata": {},
   "outputs": [],
   "source": [
    "data = json.load(open(\"experiment_3.json\"))"
   ]
  },
  {
   "cell_type": "code",
   "execution_count": 38,
   "metadata": {},
   "outputs": [],
   "source": [
    "baseline = data[0]['recommenders']['GreedyMLPHistoricalEmbedding']['model_metadata']['val_ndcg_history']\n",
    "model = data[0]['recommenders']['GreedyMLPHistoricalEmbeddingLambdarank']['model_metadata']['val_ndcg_history']"
   ]
  },
  {
   "cell_type": "code",
   "execution_count": 39,
   "metadata": {},
   "outputs": [
    {
     "data": {
      "text/plain": [
       "<matplotlib.legend.Legend at 0x7f15b9dd1d60>"
      ]
     },
     "execution_count": 39,
     "metadata": {},
     "output_type": "execute_result"
    },
    {
     "data": {
      "image/png": "[encoded data removed]",
      "text/plain": [
       "<Figure size 432x288 with 1 Axes>"
      ]
     },
     "metadata": {
      "needs_background": "light"
     },
     "output_type": "display_data"
    }
   ],
   "source": [
    "plt.plot(baseline, label='crossentropy')\n",
    "plt.plot(model, label='lambdarank')\n",
    "plt.legend()"
   ]
  },
  {
   "cell_type": "code",
   "execution_count": 40,
   "metadata": {},
   "outputs": [],
   "source": [
    "index = []\n",
    "docs = []\n",
    "for key in data[0]['recommenders'].keys():\n",
    "    index.append(key)\n",
    "    docs.append(data[0]['recommenders'][key])\n",
    "    \n"
   ]
  },
  {
   "cell_type": "code",
   "execution_count": 41,
   "metadata": {},
   "outputs": [
    {
     "data": {
      "text/html": [
       "<div>\n",
       "<style scoped>\n",
       "    .dataframe tbody tr th:only-of-type {\n",
       "        vertical-align: middle;\n",
       "    }\n",
       "\n",
       "    .dataframe tbody tr th {\n",
       "        vertical-align: top;\n",
       "    }\n",
       "\n",
       "    .dataframe thead th {\n",
       "        text-align: right;\n",
       "    }\n",
       "</style>\n",
       "<table border=\"1\" class=\"dataframe\">\n",
       "  <thead>\n",
       "    <tr style=\"text-align: right;\">\n",
       "      <th></th>\n",
       "      <th>precision@5</th>\n",
       "      <th>ndcg@40</th>\n",
       "      <th>recall@5</th>\n",
       "      <th>SPS@10</th>\n",
       "      <th>apr@5</th>\n",
       "      <th>model_build_time</th>\n",
       "      <th>model_inference_time</th>\n",
       "      <th>model_metadata</th>\n",
       "    </tr>\n",
       "  </thead>\n",
       "  <tbody>\n",
       "    <tr>\n",
       "      <th>top_recommender</th>\n",
       "      <td>0.183161</td>\n",
       "      <td>0.375650</td>\n",
       "      <td>0.017414</td>\n",
       "      <td>0.035038</td>\n",
       "      <td>16.934680</td>\n",
       "      <td>0.000009</td>\n",
       "      <td>46.428473</td>\n",
       "      <td>{'proxy_model': 'filter_seen_recommender'}</td>\n",
       "    </tr>\n",
       "    <tr>\n",
       "      <th>lightfm_30_WARP</th>\n",
       "      <td>0.213586</td>\n",
       "      <td>0.422017</td>\n",
       "      <td>0.015794</td>\n",
       "      <td>0.030211</td>\n",
       "      <td>727.147372</td>\n",
       "      <td>121.361940</td>\n",
       "      <td>99.620950</td>\n",
       "      <td>{'proxy_model': 'filter_seen_recommender'}</td>\n",
       "    </tr>\n",
       "    <tr>\n",
       "      <th>lightfm_30_BPR</th>\n",
       "      <td>0.214051</td>\n",
       "      <td>0.421111</td>\n",
       "      <td>0.015882</td>\n",
       "      <td>0.029675</td>\n",
       "      <td>746.548051</td>\n",
       "      <td>125.258416</td>\n",
       "      <td>97.632414</td>\n",
       "      <td>{'proxy_model': 'filter_seen_recommender'}</td>\n",
       "    </tr>\n",
       "    <tr>\n",
       "      <th>svd_recommender_30</th>\n",
       "      <td>0.256775</td>\n",
       "      <td>0.460831</td>\n",
       "      <td>0.022497</td>\n",
       "      <td>0.040579</td>\n",
       "      <td>125.881337</td>\n",
       "      <td>21.806013</td>\n",
       "      <td>119.090775</td>\n",
       "      <td>{'proxy_model': 'filter_seen_recommender'}</td>\n",
       "    </tr>\n",
       "    <tr>\n",
       "      <th>GreedyMLPHistoricalEmbeddingLambdarank</th>\n",
       "      <td>0.293207</td>\n",
       "      <td>0.519490</td>\n",
       "      <td>0.026769</td>\n",
       "      <td>0.083482</td>\n",
       "      <td>728.975581</td>\n",
       "      <td>30055.134132</td>\n",
       "      <td>627.613923</td>\n",
       "      <td>{'epochs_trained': 230, 'best_val_ndcg': 0.347...</td>\n",
       "    </tr>\n",
       "    <tr>\n",
       "      <th>GreedyMLPHistoricalEmbedding</th>\n",
       "      <td>0.246550</td>\n",
       "      <td>0.473467</td>\n",
       "      <td>0.021519</td>\n",
       "      <td>0.059349</td>\n",
       "      <td>899.824419</td>\n",
       "      <td>17454.669425</td>\n",
       "      <td>628.362441</td>\n",
       "      <td>{'epochs_trained': 674, 'best_val_ndcg': 0.321...</td>\n",
       "    </tr>\n",
       "  </tbody>\n",
       "</table>\n",
       "</div>"
      ],
      "text/plain": [
       "                                        precision@5   ndcg@40  recall@5  \\\n",
       "top_recommender                            0.183161  0.375650  0.017414   \n",
       "lightfm_30_WARP                            0.213586  0.422017  0.015794   \n",
       "lightfm_30_BPR                             0.214051  0.421111  0.015882   \n",
       "svd_recommender_30                         0.256775  0.460831  0.022497   \n",
       "GreedyMLPHistoricalEmbeddingLambdarank     0.293207  0.519490  0.026769   \n",
       "GreedyMLPHistoricalEmbedding               0.246550  0.473467  0.021519   \n",
       "\n",
       "                                          SPS@10       apr@5  \\\n",
       "top_recommender                         0.035038   16.934680   \n",
       "lightfm_30_WARP                         0.030211  727.147372   \n",
       "lightfm_30_BPR                          0.029675  746.548051   \n",
       "svd_recommender_30                      0.040579  125.881337   \n",
       "GreedyMLPHistoricalEmbeddingLambdarank  0.083482  728.975581   \n",
       "GreedyMLPHistoricalEmbedding            0.059349  899.824419   \n",
       "\n",
       "                                        model_build_time  \\\n",
       "top_recommender                                 0.000009   \n",
       "lightfm_30_WARP                               121.361940   \n",
       "lightfm_30_BPR                                125.258416   \n",
       "svd_recommender_30                             21.806013   \n",
       "GreedyMLPHistoricalEmbeddingLambdarank      30055.134132   \n",
       "GreedyMLPHistoricalEmbedding                17454.669425   \n",
       "\n",
       "                                        model_inference_time  \\\n",
       "top_recommender                                    46.428473   \n",
       "lightfm_30_WARP                                    99.620950   \n",
       "lightfm_30_BPR                                     97.632414   \n",
       "svd_recommender_30                                119.090775   \n",
       "GreedyMLPHistoricalEmbeddingLambdarank            627.613923   \n",
       "GreedyMLPHistoricalEmbedding                      628.362441   \n",
       "\n",
       "                                                                           model_metadata  \n",
       "top_recommender                                {'proxy_model': 'filter_seen_recommender'}  \n",
       "lightfm_30_WARP                                {'proxy_model': 'filter_seen_recommender'}  \n",
       "lightfm_30_BPR                                 {'proxy_model': 'filter_seen_recommender'}  \n",
       "svd_recommender_30                             {'proxy_model': 'filter_seen_recommender'}  \n",
       "GreedyMLPHistoricalEmbeddingLambdarank  {'epochs_trained': 230, 'best_val_ndcg': 0.347...  \n",
       "GreedyMLPHistoricalEmbedding            {'epochs_trained': 674, 'best_val_ndcg': 0.321...  "
      ]
     },
     "execution_count": 41,
     "metadata": {},
     "output_type": "execute_result"
    }
   ],
   "source": [
    "pd.DataFrame(docs, index=index)"
   ]
  },
  {
   "cell_type": "code",
   "execution_count": null,
   "metadata": {},
   "outputs": [],
   "source": [
    "tt"
   ]
  }
 ],
 "metadata": {
  "kernelspec": {
   "display_name": "Python 3",
   "language": "python",
   "name": "python3"
  },
  "language_info": {
   "codemirror_mode": {
    "name": "ipython",
    "version": 3
   },
   "file_extension": ".py",
   "mimetype": "text/x-python",
   "name": "python",
   "nbconvert_exporter": "python",
   "pygments_lexer": "ipython3",
   "version": "3.8.6"
  }
 },
 "nbformat": 4,
 "nbformat_minor": 4
}
