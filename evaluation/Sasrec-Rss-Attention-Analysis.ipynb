{
 "cells": [
  {
   "cell_type": "code",
   "execution_count": 1,
   "id": "2b0deae8",
   "metadata": {},
   "outputs": [],
   "source": [
    "import dill\n",
    "import tensorflow as tf\n",
    "import matplotlib.pyplot as plt\n",
    "import tqdm\n",
    "import numpy as np"
   ]
  },
  {
   "cell_type": "code",
   "execution_count": 2,
   "id": "a6084a8b",
   "metadata": {},
   "outputs": [],
   "source": [
    "model_file = open(\"/home/alekspet/Projects/aprec/aprec/evaluation/results/ml_benchmark20m_sasrec_variable_importance_2022_11_04T09_03_25/checkpoints/SASRec-vanilla.dill\", \"rb\")\n",
    "#model_file = open(\"/home/alekspet/Projects/aprec/aprec/evaluation/results/ml_benchmark20m_sasrec_variable_importance_2022_11_04T09_03_25/checkpoints/Sasrec-rss-lambdarank-0.01.dill\", \"rb\")\n",
    "#model_file = open(\"/home/alekspet/Projects/aprec/aprec/evaluation/results/ml_benchmark20m_sasrec_variable_importance_2022_11_04T09_03_25/checkpoints/Sasrec-rss-lambdarank-0.5.dill\", \"rb\")\n",
    "#model_file = open(\"/home/alekspet/Projects/aprec/aprec/evaluation/results/ml_benchmark20m_sasrec_variable_importance_2022_11_04T09_03_25/checkpoints/Sasrec-rss-lambdarank-0.5.dill\", \"rb\")\n",
    "model_file = open(\"/home/alekspet/Projects/aprec/aprec/evaluation/results/ml_benchmark20m_sasrec_variable_importance_2022_11_06T10_18_53/checkpoints/Sasrec-rss-lambdarank-0.5.dill\", \"rb\")\n"
   ]
  },
  {
   "cell_type": "code",
   "execution_count": 8,
   "id": "5c90c702",
   "metadata": {},
   "outputs": [],
   "source": [
    "# Copyright 2022 The KerasNLP Authors\n",
    "#\n",
    "# Licensed under the Apache License, Version 2.0 (the \"License\");\n",
    "# you may not use this file except in compliance with the License.\n",
    "# You may obtain a copy of the License at\n",
    "#\n",
    "#     https://www.apache.org/licenses/LICENSE-2.0\n",
    "#\n",
    "# Unless required by applicable law or agreed to in writing, software\n",
    "# distributed under the License is distributed on an \"AS IS\" BASIS,\n",
    "# WITHOUT WARRANTIES OR CONDITIONS OF ANY KIND, either express or implied.\n",
    "# See the License for the specific language governing permissions and\n",
    "# limitations under the License.\n",
    "\n",
    "\"\"\"Sinusoidal position embedding layer.\"\"\"\n",
    "\n",
    "import tensorflow as tf\n",
    "from tensorflow import keras\n",
    "\n",
    "\n",
    "class SinePositionEncoding(keras.layers.Layer):\n",
    "    \"\"\"Sinusoidal positional encoding layer.\n",
    "    This layer calculates the position encoding as a mix of sine and cosine\n",
    "    functions with geometrically increasing wavelengths. Defined and formulized\n",
    "    in [Attention is All You Need](https://arxiv.org/abs/1706.03762).\n",
    "    Takes as input an embedded token tensor. The input must have shape\n",
    "    [batch_size, sequence_length, feature_size]. This layer will return a\n",
    "    positional encoding the same size as the embedded token tensor, which\n",
    "    can be added directly to the embedded token tensor.\n",
    "    Args:\n",
    "        max_wavelength: The maximum angular wavelength of the sine/cosine\n",
    "            curves, as described in Attention is All You Need. Defaults to\n",
    "            10000.\n",
    "    Examples:\n",
    "    ```python\n",
    "    # create a simple embedding layer with sinusoidal positional encoding\n",
    "    seq_len = 100\n",
    "    vocab_size = 1000\n",
    "    embedding_dim = 32\n",
    "    inputs = keras.Input((seq_len,), dtype=tf.float32)\n",
    "    embedding = keras.layers.Embedding(\n",
    "        input_dim=vocab_size, output_dim=embedding_dim\n",
    "    )(inputs)\n",
    "    positional_encoding = keras_nlp.layers.SinePositionEncoding()(embedding)\n",
    "    outputs = embedding + positional_encoding\n",
    "    ```\n",
    "    References:\n",
    "     - [Vaswani et al., 2017](https://arxiv.org/abs/1706.03762)\n",
    "    \"\"\"\n",
    "\n",
    "    def __init__(\n",
    "        self,\n",
    "        seq_length, \n",
    "        hidden_size,\n",
    "        max_wavelength=10000,\n",
    "        **kwargs,\n",
    "    ):\n",
    "        super().__init__(**kwargs)\n",
    "        self.max_wavelength = max_wavelength\n",
    "        self.seq_length = seq_length\n",
    "        self.hidden_size = hidden_size\n",
    "\n",
    "    def call(self, inputs):\n",
    "        # TODO(jbischof): replace `hidden_size` with`hidden_dim` for consistency\n",
    "        # with other layers.\n",
    "        input_shape = tf.shape(inputs)\n",
    "        # length of sequence is the second last dimension of the inputs\n",
    "        seq_length = self.seq_length\n",
    "        hidden_size = self.hidden_size\n",
    "        position = tf.cast(tf.range(seq_length), self.compute_dtype)\n",
    "        min_freq = tf.cast(1 / self.max_wavelength, dtype=self.compute_dtype)\n",
    "        timescales = tf.pow(\n",
    "            min_freq,\n",
    "            tf.cast(2 * (tf.range(hidden_size) // 2), self.compute_dtype)\n",
    "            / tf.cast(hidden_size, self.compute_dtype),\n",
    "        )\n",
    "        angles = tf.expand_dims(position, 1) * tf.expand_dims(timescales, 0)\n",
    "        # even indices are sine, odd are cosine\n",
    "        cos_mask = tf.cast(tf.range(hidden_size) % 2, self.compute_dtype)\n",
    "        sin_mask = 1 - cos_mask\n",
    "        # embedding shape is [seq_length, hidden_size]\n",
    "        positional_encodings = (\n",
    "            tf.sin(angles) * sin_mask + tf.cos(angles) * cos_mask\n",
    "        )\n",
    "\n",
    "        return tf.broadcast_to(positional_encodings, input_shape)\n",
    "\n",
    "    def get_config(self):\n",
    "        config = super().get_config()\n",
    "        config.update(\n",
    "            {\n",
    "                \"max_wavelength\": self.max_wavelength,\n",
    "            }\n",
    "        )\n",
    "        return config"
   ]
  },
  {
   "cell_type": "code",
   "execution_count": 9,
   "id": "b5123cb0",
   "metadata": {},
   "outputs": [
    {
     "ename": "EOFError",
     "evalue": "Ran out of input",
     "output_type": "error",
     "traceback": [
      "\u001b[0;31m---------------------------------------------------------------------------\u001b[0m",
      "\u001b[0;31mEOFError\u001b[0m                                  Traceback (most recent call last)",
      "Input \u001b[0;32mIn [9]\u001b[0m, in \u001b[0;36m<cell line: 1>\u001b[0;34m()\u001b[0m\n\u001b[0;32m----> 1\u001b[0m recommender \u001b[38;5;241m=\u001b[39m \u001b[43mdill\u001b[49m\u001b[38;5;241;43m.\u001b[39;49m\u001b[43mload\u001b[49m\u001b[43m(\u001b[49m\u001b[43mmodel_file\u001b[49m\u001b[43m)\u001b[49m\n",
      "File \u001b[0;32m~/anaconda3/envs/aprec/lib/python3.9/site-packages/dill/_dill.py:373\u001b[0m, in \u001b[0;36mload\u001b[0;34m(file, ignore, **kwds)\u001b[0m\n\u001b[1;32m    367\u001b[0m \u001b[38;5;28;01mdef\u001b[39;00m \u001b[38;5;21mload\u001b[39m(file, ignore\u001b[38;5;241m=\u001b[39m\u001b[38;5;28;01mNone\u001b[39;00m, \u001b[38;5;241m*\u001b[39m\u001b[38;5;241m*\u001b[39mkwds):\n\u001b[1;32m    368\u001b[0m     \u001b[38;5;124;03m\"\"\"\u001b[39;00m\n\u001b[1;32m    369\u001b[0m \u001b[38;5;124;03m    Unpickle an object from a file.\u001b[39;00m\n\u001b[1;32m    370\u001b[0m \n\u001b[1;32m    371\u001b[0m \u001b[38;5;124;03m    See :func:`loads` for keyword arguments.\u001b[39;00m\n\u001b[1;32m    372\u001b[0m \u001b[38;5;124;03m    \"\"\"\u001b[39;00m\n\u001b[0;32m--> 373\u001b[0m     \u001b[38;5;28;01mreturn\u001b[39;00m \u001b[43mUnpickler\u001b[49m\u001b[43m(\u001b[49m\u001b[43mfile\u001b[49m\u001b[43m,\u001b[49m\u001b[43m \u001b[49m\u001b[43mignore\u001b[49m\u001b[38;5;241;43m=\u001b[39;49m\u001b[43mignore\u001b[49m\u001b[43m,\u001b[49m\u001b[43m \u001b[49m\u001b[38;5;241;43m*\u001b[39;49m\u001b[38;5;241;43m*\u001b[39;49m\u001b[43mkwds\u001b[49m\u001b[43m)\u001b[49m\u001b[38;5;241;43m.\u001b[39;49m\u001b[43mload\u001b[49m\u001b[43m(\u001b[49m\u001b[43m)\u001b[49m\n",
      "File \u001b[0;32m~/anaconda3/envs/aprec/lib/python3.9/site-packages/dill/_dill.py:646\u001b[0m, in \u001b[0;36mUnpickler.load\u001b[0;34m(self)\u001b[0m\n\u001b[1;32m    645\u001b[0m \u001b[38;5;28;01mdef\u001b[39;00m \u001b[38;5;21mload\u001b[39m(\u001b[38;5;28mself\u001b[39m): \u001b[38;5;66;03m#NOTE: if settings change, need to update attributes\u001b[39;00m\n\u001b[0;32m--> 646\u001b[0m     obj \u001b[38;5;241m=\u001b[39m \u001b[43mStockUnpickler\u001b[49m\u001b[38;5;241;43m.\u001b[39;49m\u001b[43mload\u001b[49m\u001b[43m(\u001b[49m\u001b[38;5;28;43mself\u001b[39;49m\u001b[43m)\u001b[49m\n\u001b[1;32m    647\u001b[0m     \u001b[38;5;28;01mif\u001b[39;00m \u001b[38;5;28mtype\u001b[39m(obj)\u001b[38;5;241m.\u001b[39m\u001b[38;5;18m__module__\u001b[39m \u001b[38;5;241m==\u001b[39m \u001b[38;5;28mgetattr\u001b[39m(_main_module, \u001b[38;5;124m'\u001b[39m\u001b[38;5;124m__name__\u001b[39m\u001b[38;5;124m'\u001b[39m, \u001b[38;5;124m'\u001b[39m\u001b[38;5;124m__main__\u001b[39m\u001b[38;5;124m'\u001b[39m):\n\u001b[1;32m    648\u001b[0m         \u001b[38;5;28;01mif\u001b[39;00m \u001b[38;5;129;01mnot\u001b[39;00m \u001b[38;5;28mself\u001b[39m\u001b[38;5;241m.\u001b[39m_ignore:\n\u001b[1;32m    649\u001b[0m             \u001b[38;5;66;03m# point obj class to main\u001b[39;00m\n",
      "\u001b[0;31mEOFError\u001b[0m: Ran out of input"
     ]
    }
   ],
   "source": [
    "recommender = dill.load(model_file)"
   ]
  },
  {
   "cell_type": "code",
   "execution_count": 20,
   "id": "63f4f093",
   "metadata": {},
   "outputs": [],
   "source": [
    "user_ids = recommender.recommender.users.straight"
   ]
  },
  {
   "cell_type": "code",
   "execution_count": 21,
   "id": "7ff0cca5",
   "metadata": {},
   "outputs": [],
   "source": [
    "sasrec_recommender = recommender.recommender"
   ]
  },
  {
   "cell_type": "code",
   "execution_count": 22,
   "id": "ac0377f2",
   "metadata": {},
   "outputs": [],
   "source": [
    "def get_attention_maps(user_id, sasrec_recommender):\n",
    "    inputs = sasrec_recommender.get_model_inputs(user_id)[0]\n",
    "    with tf.device('/cpu:0'):\n",
    "        seq, attn = sasrec_recommender.model.get_seq_embedding(inputs)\n",
    "    return attn[0][0].numpy()"
   ]
  },
  {
   "cell_type": "code",
   "execution_count": 23,
   "id": "b35ef650",
   "metadata": {},
   "outputs": [],
   "source": [
    "m = get_attention_maps('28507', sasrec_recommender)"
   ]
  },
  {
   "cell_type": "code",
   "execution_count": 24,
   "id": "44cde2d9",
   "metadata": {},
   "outputs": [
    {
     "name": "stderr",
     "output_type": "stream",
     "text": [
      "100%|████████████████████████████████████████████████████████████████████████████████████████████████████████████████████████████████████████████████████████████████████████████████████████████████████████████| 1000/1000 [00:18<00:00, 55.17it/s]\n"
     ]
    }
   ],
   "source": [
    "maps = []\n",
    "for n in tqdm.tqdm(range(1000)):\n",
    "    uid = np.random.choice(list(user_ids.keys()))\n",
    "    maps.append(get_attention_maps(uid, sasrec_recommender))"
   ]
  },
  {
   "cell_type": "code",
   "execution_count": 25,
   "id": "735bb4e4",
   "metadata": {},
   "outputs": [],
   "source": [
    "maps = np.array(maps)"
   ]
  },
  {
   "cell_type": "code",
   "execution_count": 26,
   "id": "021a8ee0",
   "metadata": {},
   "outputs": [],
   "source": [
    "mean_attentions  = np.mean(maps, axis=0)"
   ]
  },
  {
   "cell_type": "code",
   "execution_count": 27,
   "id": "59087e13",
   "metadata": {},
   "outputs": [
    {
     "data": {
      "text/plain": [
       "<matplotlib.image.AxesImage at 0x7fa265c2f550>"
      ]
     },
     "execution_count": 27,
     "metadata": {},
     "output_type": "execute_result"
    },
    {
     "data": {
      "image/png": "[encoded data removed]",
      "text/plain": [
       "<Figure size 1152x1152 with 1 Axes>"
      ]
     },
     "metadata": {
      "needs_background": "light"
     },
     "output_type": "display_data"
    }
   ],
   "source": [
    "plt.figure(figsize=(16,16))\n",
    "plt.imshow(mean_attentions, vmax=0.09, vmin=0.0)"
   ]
  },
  {
   "cell_type": "code",
   "execution_count": 28,
   "id": "ab6c3d48",
   "metadata": {},
   "outputs": [],
   "source": [
    "res = []\n",
    "n = 49\n",
    "a = 0.5\n",
    "for i in range(n):\n",
    "    res.append(a ** (n - i))\n",
    "res = np.array(res) /np.sum(res)"
   ]
  },
  {
   "cell_type": "code",
   "execution_count": 29,
   "id": "13b80ab7",
   "metadata": {},
   "outputs": [
    {
     "data": {
      "text/plain": [
       "<matplotlib.legend.Legend at 0x7fa2c4801970>"
      ]
     },
     "execution_count": 29,
     "metadata": {},
     "output_type": "execute_result"
    },
    {
     "data": {
      "image/png": "[encoded data removed]",
      "text/plain": [
       "<Figure size 432x288 with 1 Axes>"
      ]
     },
     "metadata": {
      "needs_background": "light"
     },
     "output_type": "display_data"
    }
   ],
   "source": [
    "plt.plot(mean_attentions[49], label='last item in the sequence')\n",
    "plt.plot(mean_attentions[48], label='second last')\n",
    "\n",
    "#plt.plot(mean_attentions[24][:25], label='25th item in the sequence')\n",
    "#plt.plot(res, label = 'position_importance')\n",
    "plt.legend()"
   ]
  },
  {
   "cell_type": "code",
   "execution_count": 30,
   "id": "3604c0b9",
   "metadata": {},
   "outputs": [],
   "source": [
    "rss_weights = np.array([0.00050863, 0.00061887, 0.00092197, 0.0014479 , 0.00090583,\n",
    "       0.00090679, 0.00081685, 0.00119046, 0.00088777, 0.00057822,\n",
    "       0.00139008, 0.00110968, 0.00142508, 0.00104092, 0.00105084,\n",
    "       0.00108611, 0.00110633, 0.00163135, 0.00142438, 0.0030446 ,\n",
    "       0.00163955, 0.00301373, 0.00228171, 0.00208965, 0.00155316,\n",
    "       0.00093835, 0.00178353, 0.0017377 , 0.00252213, 0.00173926,\n",
    "       0.00320056, 0.00308274, 0.00458886, 0.0035606 , 0.0047561 ,\n",
    "       0.00692631, 0.00971894, 0.0089213 , 0.01161868, 0.01065103,\n",
    "       0.01554658, 0.0157064 , 0.02285646, 0.03320919, 0.04574714,\n",
    "       0.06964114, 0.12280825, 0.20446777, 0.34794655, 0.01265421])"
   ]
  },
  {
   "cell_type": "code",
   "execution_count": 31,
   "id": "6e8058ec",
   "metadata": {},
   "outputs": [],
   "source": [
    "vanilla_weights = np.array([0.00723696, 0.00789131, 0.00889317, 0.00740616, 0.00823375,\n",
    "       0.00879929, 0.00743264, 0.00758507, 0.00899467, 0.00783445,\n",
    "       0.00634459, 0.00708402, 0.00703078, 0.00810132, 0.00828369,\n",
    "       0.00845831, 0.00829117, 0.00793688, 0.00801629, 0.00869415,\n",
    "       0.00855302, 0.01001667, 0.00904213, 0.00945777, 0.00892488,\n",
    "       0.01191296, 0.01217955, 0.01356116, 0.01392799, 0.01479892,\n",
    "       0.01614767, 0.01513599, 0.01697625, 0.01921821, 0.01820138,\n",
    "       0.01843641, 0.02193111, 0.0230982 , 0.02433731, 0.02698987,\n",
    "       0.02998334, 0.03684098, 0.03525388, 0.04003029, 0.04953673,\n",
    "       0.050356  , 0.06957363, 0.07372294, 0.08696238, 0.05634372]\n",
    "    )"
   ]
  },
  {
   "cell_type": "code",
   "execution_count": 32,
   "id": "f04865c7",
   "metadata": {},
   "outputs": [
    {
     "data": {
      "text/plain": [
       "<matplotlib.legend.Legend at 0x7fa9d8247b20>"
      ]
     },
     "execution_count": 32,
     "metadata": {},
     "output_type": "execute_result"
    },
    {
     "data": {
      "image/png": "[encoded data removed]",
      "text/plain": [
       "<Figure size 432x288 with 1 Axes>"
      ]
     },
     "metadata": {
      "needs_background": "light"
     },
     "output_type": "display_data"
    }
   ],
   "source": [
    "plt.plot(rss_weights, label='rss_attentions')\n",
    "plt.plot(vanilla_weights, label='vanilla_attentions')\n",
    "plt.plot(res, label  = 'rss_position_importance')\n",
    "plt.legend()"
   ]
  },
  {
   "cell_type": "code",
   "execution_count": 33,
   "id": "77067afb",
   "metadata": {},
   "outputs": [
    {
     "data": {
      "text/plain": [
       "<matplotlib.image.AxesImage at 0x7fa2c4c5c4f0>"
      ]
     },
     "execution_count": 33,
     "metadata": {},
     "output_type": "execute_result"
    },
    {
     "data": {
      "image/png": "[encoded data removed]",
      "text/plain": [
       "<Figure size 432x288 with 1 Axes>"
      ]
     },
     "metadata": {
      "needs_background": "light"
     },
     "output_type": "display_data"
    }
   ],
   "source": [
    "all_items = np.arange(50)\n",
    "embs = recommender.recommender.model.postion_embedding_layer(all_items)\n",
    "plt.imshow(embs)"
   ]
  },
  {
   "cell_type": "code",
   "execution_count": 6,
   "id": "83657510",
   "metadata": {},
   "outputs": [],
   "source": [
    "sine_embs = SinePositionEncoding(50, 64)"
   ]
  },
  {
   "cell_type": "code",
   "execution_count": 7,
   "id": "e4e26b9a",
   "metadata": {},
   "outputs": [
    {
     "ename": "AttributeError",
     "evalue": "'SinePositionEncoding' object has no attribute 'seq_length'",
     "output_type": "error",
     "traceback": [
      "\u001b[0;31m---------------------------------------------------------------------------\u001b[0m",
      "\u001b[0;31mAttributeError\u001b[0m                            Traceback (most recent call last)",
      "Input \u001b[0;32mIn [7]\u001b[0m, in \u001b[0;36m<cell line: 1>\u001b[0;34m()\u001b[0m\n\u001b[0;32m----> 1\u001b[0m \u001b[43msine_embs\u001b[49m\u001b[43m(\u001b[49m\u001b[38;5;241;43m0\u001b[39;49m\u001b[43m)\u001b[49m\n",
      "File \u001b[0;32m~/anaconda3/envs/aprec/lib/python3.9/site-packages/keras/engine/base_layer.py:1037\u001b[0m, in \u001b[0;36mLayer.__call__\u001b[0;34m(self, *args, **kwargs)\u001b[0m\n\u001b[1;32m   1033\u001b[0m   inputs \u001b[38;5;241m=\u001b[39m \u001b[38;5;28mself\u001b[39m\u001b[38;5;241m.\u001b[39m_maybe_cast_inputs(inputs, input_list)\n\u001b[1;32m   1035\u001b[0m \u001b[38;5;28;01mwith\u001b[39;00m autocast_variable\u001b[38;5;241m.\u001b[39menable_auto_cast_variables(\n\u001b[1;32m   1036\u001b[0m     \u001b[38;5;28mself\u001b[39m\u001b[38;5;241m.\u001b[39m_compute_dtype_object):\n\u001b[0;32m-> 1037\u001b[0m   outputs \u001b[38;5;241m=\u001b[39m \u001b[43mcall_fn\u001b[49m\u001b[43m(\u001b[49m\u001b[43minputs\u001b[49m\u001b[43m,\u001b[49m\u001b[43m \u001b[49m\u001b[38;5;241;43m*\u001b[39;49m\u001b[43margs\u001b[49m\u001b[43m,\u001b[49m\u001b[43m \u001b[49m\u001b[38;5;241;43m*\u001b[39;49m\u001b[38;5;241;43m*\u001b[39;49m\u001b[43mkwargs\u001b[49m\u001b[43m)\u001b[49m\n\u001b[1;32m   1039\u001b[0m \u001b[38;5;28;01mif\u001b[39;00m \u001b[38;5;28mself\u001b[39m\u001b[38;5;241m.\u001b[39m_activity_regularizer:\n\u001b[1;32m   1040\u001b[0m   \u001b[38;5;28mself\u001b[39m\u001b[38;5;241m.\u001b[39m_handle_activity_regularization(inputs, outputs)\n",
      "Input \u001b[0;32mIn [3]\u001b[0m, in \u001b[0;36mSinePositionEncoding.call\u001b[0;34m(self, inputs)\u001b[0m\n\u001b[1;32m     64\u001b[0m input_shape \u001b[38;5;241m=\u001b[39m tf\u001b[38;5;241m.\u001b[39mshape(inputs)\n\u001b[1;32m     65\u001b[0m \u001b[38;5;66;03m# length of sequence is the second last dimension of the inputs\u001b[39;00m\n\u001b[0;32m---> 66\u001b[0m seq_length \u001b[38;5;241m=\u001b[39m \u001b[38;5;28;43mself\u001b[39;49m\u001b[38;5;241;43m.\u001b[39;49m\u001b[43mseq_length\u001b[49m\n\u001b[1;32m     67\u001b[0m hidden_size \u001b[38;5;241m=\u001b[39m \u001b[38;5;28mself\u001b[39m\u001b[38;5;241m.\u001b[39mhidden_size\n\u001b[1;32m     68\u001b[0m position \u001b[38;5;241m=\u001b[39m tf\u001b[38;5;241m.\u001b[39mcast(tf\u001b[38;5;241m.\u001b[39mrange(seq_length), \u001b[38;5;28mself\u001b[39m\u001b[38;5;241m.\u001b[39mcompute_dtype)\n",
      "\u001b[0;31mAttributeError\u001b[0m: 'SinePositionEncoding' object has no attribute 'seq_length'"
     ]
    }
   ],
   "source": [
    "sine_embs(0)"
   ]
  },
  {
   "cell_type": "code",
   "execution_count": null,
   "id": "07870a59",
   "metadata": {},
   "outputs": [],
   "source": []
  }
 ],
 "metadata": {
  "kernelspec": {
   "display_name": "Python 3 (ipykernel)",
   "language": "python",
   "name": "python3"
  },
  "language_info": {
   "codemirror_mode": {
    "name": "ipython",
    "version": 3
   },
   "file_extension": ".py",
   "mimetype": "text/x-python",
   "name": "python",
   "nbconvert_exporter": "python",
   "pygments_lexer": "ipython3",
   "version": "3.9.12"
  }
 },
 "nbformat": 4,
 "nbformat_minor": 5
}
