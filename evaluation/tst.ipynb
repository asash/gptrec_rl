{
 "cells": [
  {
   "cell_type": "code",
   "execution_count": 96,
   "id": "5a6298d2",
   "metadata": {},
   "outputs": [],
   "source": [
    "import datasets\n",
    "import tensorflow_probability as tfp\n",
    "import numpy as np\n",
    "from matplotlib import pyplot as plt\n",
    "import torch\n",
    "import random"
   ]
  },
  {
   "cell_type": "code",
   "execution_count": 59,
   "id": "7baefb8b",
   "metadata": {},
   "outputs": [
    {
     "name": "stderr",
     "output_type": "stream",
     "text": [
      "Found cached dataset mnist (/home/alekspet/.cache/huggingface/datasets/mnist/mnist/1.0.0/fda16c03c4ecfb13f165ba7e29cf38129ce035011519968cdaf74894ce91c9d4)\n"
     ]
    },
    {
     "data": {
      "application/vnd.jupyter.widget-view+json": {
       "model_id": "a320a7a32dfe47938a54dd7bf8f0ed33",
       "version_major": 2,
       "version_minor": 0
      },
      "text/plain": [
       "  0%|          | 0/2 [00:00<?, ?it/s]"
      ]
     },
     "metadata": {},
     "output_type": "display_data"
    }
   ],
   "source": [
    "\n",
    "data = datasets.load_dataset('mnist')['train']"
   ]
  },
  {
   "cell_type": "code",
   "execution_count": 62,
   "id": "2efc3fbc",
   "metadata": {},
   "outputs": [],
   "source": [
    "X = np.array([np.array(im) for im in data['image']])/255\n"
   ]
  },
  {
   "cell_type": "code",
   "execution_count": 109,
   "id": "d2ff19bd",
   "metadata": {},
   "outputs": [],
   "source": [
    "class Noise(object):\n",
    "    def __init__(self, steps=1000, min_beta=0.0001, max_beta=0.001):\n",
    "        betas = np.linspace(min_beta, max_beta, steps)\n",
    "        alphas = 1 - betas\n",
    "        cur = 1\n",
    "        aprods = []\n",
    "        for i in range(0, len(alphas)):\n",
    "            cur*=alphas[i]\n",
    "            aprods.append(cur)\n",
    "        self.aprods = np.array(aprods)\n",
    "        self.alphas = alphas\n",
    "        \n",
    "    def destroy(self,X, t):\n",
    "        if t == 0:\n",
    "            return X\n",
    "        aprod = self.aprods[t]\n",
    "        sample = torch.normal(0, 1, X.shape)\n",
    "        result = math.sqrt(aprod)*X + math.sqrt(1-aprod)*sample\n",
    "        result = torch.clip(result, -1, 1)\n",
    "        return result\n",
    "    \n",
    "    def add_noise(self, X, t):\n",
    "        alpha = self.alphas[t]\n",
    "        sample = torch.normal(0, 1, X.shape)\n",
    "        first = math.sqrt(alpha)*X \n",
    "        second = math.sqrt(1-alpha)*sample\n",
    "        result = first + second\n",
    "        result = torch.clip(result, -1, 1)\n",
    "        return result, sample\n",
    "    \n",
    "    def subtract_noise(self, x, sample, t):\n",
    "        alpha = torch.unsqueeze(torch.unsqueeze(torch.unsqueeze(torch.tensor(self.alphas[t]), -1), -1), -1)\n",
    "        print(alpha.shape, sample.shape, x.shape)\n",
    "        result =( x - torch.sqrt(1-alpha)*sample) / torch.sqrt(alpha)\n",
    "        result = torch.clip(result, -1, 1)\n",
    "        return result\n",
    "    \n",
    "    def destroy_by_steps(self, X, t):\n",
    "        cur = X\n",
    "        for i in range(t+1):\n",
    "            cur, noise = self.add_noise(cur, i)\n",
    "        return cur\n"
   ]
  },
  {
   "cell_type": "code",
   "execution_count": 110,
   "id": "7793884b",
   "metadata": {},
   "outputs": [],
   "source": [
    "def one_hot(x):\n",
    "    res = np.zeros(10)\n",
    "    res[x] = 1\n",
    "    return res"
   ]
  },
  {
   "cell_type": "code",
   "execution_count": 111,
   "id": "d3aa5b5f",
   "metadata": {},
   "outputs": [],
   "source": [
    "y = np.array([one_hot(label) for label in data['label']])"
   ]
  },
  {
   "cell_type": "code",
   "execution_count": 112,
   "id": "d791374b",
   "metadata": {},
   "outputs": [],
   "source": [
    "x = torch.tensor(X[0])\n",
    "all_ids = np.arange(len(data))\n",
    "n = Noise()"
   ]
  },
  {
   "cell_type": "code",
   "execution_count": 138,
   "id": "b421b472",
   "metadata": {},
   "outputs": [],
   "source": [
    "def get_batch(size=64):\n",
    "    ids = np.random.choice(all_ids, size)\n",
    "    guidance = []\n",
    "    ts = []\n",
    "    X_batch = []\n",
    "    output = []\n",
    "    for id in ids:\n",
    "        t = random.randint(0, 998)\n",
    "        ts.append(t)\n",
    "        x = torch.tensor(X[id])\n",
    "        destroyed = n.destroy(x, t)\n",
    "        res, noise = n.add_noise(destroyed, t+1)\n",
    "        X_batch.append(res.numpy())\n",
    "        output.append(noise.numpy())\n",
    "        guidance.append(y[id])\n",
    "        \n",
    "    return (torch.tensor(np.array(X_batch)), torch.tensor(np.array(guidance)), \n",
    "            torch.tensor(np.array(ts)), torch.tensor(np.array(output)))\n",
    "\n",
    "\n",
    "\n",
    "X_batch, guidance, ts, output = get_batch()"
   ]
  },
  {
   "cell_type": "code",
   "execution_count": 153,
   "id": "3345b62d",
   "metadata": {},
   "outputs": [
    {
     "name": "stdout",
     "output_type": "stream",
     "text": [
      "tensor(1) tensor(998)\n"
     ]
    },
    {
     "data": {
      "image/png": "[encoded data removed]",
      "text/plain": [
       "<Figure size 640x480 with 2 Axes>"
      ]
     },
     "metadata": {},
     "output_type": "display_data"
    }
   ],
   "source": [
    "k=9\n",
    "fig, ax = plt.subplots(2)\n",
    "ax[0].imshow(X_batch[k])\n",
    "ax[1].imshow(output[k])\n",
    "print(np.argmax(guidance[k]), ts[k])"
   ]
  },
  {
   "cell_type": "code",
   "execution_count": 122,
   "id": "164e24a5",
   "metadata": {},
   "outputs": [
    {
     "data": {
      "text/plain": [
       "<matplotlib.image.AxesImage at 0x7f96a7cce530>"
      ]
     },
     "execution_count": 122,
     "metadata": {},
     "output_type": "execute_result"
    },
    {
     "data": {
      "image/png": "[encoded data removed]",
      "text/plain": [
       "<Figure size 640x480 with 2 Axes>"
      ]
     },
     "metadata": {},
     "output_type": "display_data"
    }
   ],
   "source": [
    "k = 300\n",
    "fig, ax = plt.subplots(2)\n",
    "ax[0].imshow(n.destroy(torch.tensor(X[0]), k))\n",
    "cur = torch.tensor(X[0])\n",
    "for i in range(k):    \n",
    "    cur, noise = n.add_noise(cur, i)\n",
    "ax[1].imshow(cur)"
   ]
  },
  {
   "cell_type": "code",
   "execution_count": null,
   "id": "61e909f8",
   "metadata": {},
   "outputs": [],
   "source": []
  }
 ],
 "metadata": {
  "kernelspec": {
   "display_name": "Python 3 (ipykernel)",
   "language": "python",
   "name": "python3"
  },
  "language_info": {
   "codemirror_mode": {
    "name": "ipython",
    "version": 3
   },
   "file_extension": ".py",
   "mimetype": "text/x-python",
   "name": "python",
   "nbconvert_exporter": "python",
   "pygments_lexer": "ipython3",
   "version": "3.10.6"
  }
 },
 "nbformat": 4,
 "nbformat_minor": 5
}
