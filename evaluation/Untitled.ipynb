{
 "cells": [
  {
   "cell_type": "code",
   "execution_count": 2,
   "id": "1fd4d6a8",
   "metadata": {},
   "outputs": [],
   "source": [
    "import aprec\n",
    "from aprec.datasets.datasets_register import DatasetsRegister\n",
    "import torch "
   ]
  },
  {
   "cell_type": "code",
   "execution_count": 5,
   "id": "88cba9fa",
   "metadata": {},
   "outputs": [],
   "source": [
    "data = DatasetsRegister()['BERT4rec.ml-1m']()"
   ]
  },
  {
   "cell_type": "code",
   "execution_count": null,
   "id": "fcfdad1b",
   "metadata": {},
   "outputs": [],
   "source": []
  }
 ],
 "metadata": {
  "kernelspec": {
   "display_name": "Python 3 (ipykernel)",
   "language": "python",
   "name": "python3"
  },
  "language_info": {
   "codemirror_mode": {
    "name": "ipython",
    "version": 3
   },
   "file_extension": ".py",
   "mimetype": "text/x-python",
   "name": "python",
   "nbconvert_exporter": "python",
   "pygments_lexer": "ipython3",
   "version": "3.10.6"
  }
 },
 "nbformat": 4,
 "nbformat_minor": 5
}
