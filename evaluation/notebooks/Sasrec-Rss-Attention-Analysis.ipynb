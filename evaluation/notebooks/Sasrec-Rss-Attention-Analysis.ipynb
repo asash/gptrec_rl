{
 "cells": [
  {
   "cell_type": "code",
   "execution_count": 12,
   "id": "2b0deae8",
   "metadata": {},
   "outputs": [],
   "source": [
    "import dill\n",
    "import tensorflow as tf"
   ]
  },
  {
   "cell_type": "code",
   "execution_count": 13,
   "id": "a6084a8b",
   "metadata": {},
   "outputs": [],
   "source": [
    "model_file = open(\"/home/alekspet/Projects/aprec/aprec/evaluation/results/ml_benchmark20m_sasrec_variable_importance_2022_11_04T07_19_29/checkpoints/SASRec-vanilla.dill\", \"rb\")"
   ]
  },
  {
   "cell_type": "code",
   "execution_count": 14,
   "id": "b5123cb0",
   "metadata": {},
   "outputs": [],
   "source": [
    "recommender = dill.load(model_file)"
   ]
  },
  {
   "cell_type": "code",
   "execution_count": 15,
   "id": "63f4f093",
   "metadata": {},
   "outputs": [],
   "source": [
    "user_ids = recommender.recommender.users.straight"
   ]
  },
  {
   "cell_type": "code",
   "execution_count": 17,
   "id": "50763800",
   "metadata": {},
   "outputs": [],
   "source": [
    "with tf.device('/cpu:0'):\n",
    "    recs = recommender.recommend('28507', 10)"
   ]
  },
  {
   "cell_type": "code",
   "execution_count": 18,
   "id": "7ff0cca5",
   "metadata": {},
   "outputs": [
    {
     "data": {
      "text/plain": [
       "[('994', 7.052045),\n",
       " ('1411', 6.4845185),\n",
       " ('58', 6.2450547),\n",
       " ('85', 6.01868),\n",
       " ('1120', 5.7305584),\n",
       " ('1414', 5.697733),\n",
       " ('1358', 5.6833477),\n",
       " ('194', 5.615397),\n",
       " ('851', 5.527389),\n",
       " ('581', 5.4854403)]"
      ]
     },
     "execution_count": 18,
     "metadata": {},
     "output_type": "execute_result"
    }
   ],
   "source": [
    "recs"
   ]
  },
  {
   "cell_type": "code",
   "execution_count": null,
   "id": "36120029",
   "metadata": {},
   "outputs": [],
   "source": []
  }
 ],
 "metadata": {
  "kernelspec": {
   "display_name": "Python 3 (ipykernel)",
   "language": "python",
   "name": "python3"
  },
  "language_info": {
   "codemirror_mode": {
    "name": "ipython",
    "version": 3
   },
   "file_extension": ".py",
   "mimetype": "text/x-python",
   "name": "python",
   "nbconvert_exporter": "python",
   "pygments_lexer": "ipython3",
   "version": "3.9.12"
  }
 },
 "nbformat": 4,
 "nbformat_minor": 5
}
